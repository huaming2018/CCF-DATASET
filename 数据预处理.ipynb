{
 "cells": [
  {
   "cell_type": "markdown",
   "metadata": {},
   "source": [
    "处理未标签数据 对每个样本都检测时候有分类标签 如果这个样本只有一个标签 则认为这个样本是属于这个标签的"
   ]
  },
  {
   "cell_type": "code",
   "execution_count": 27,
   "metadata": {},
   "outputs": [],
   "source": [
    "import pandas as pd\n",
    "import random\n",
    "import csv\n",
    "from sklearn.utils import shuffle"
   ]
  },
  {
   "cell_type": "code",
   "execution_count": 6,
   "metadata": {},
   "outputs": [
    {
     "name": "stdout",
     "output_type": "stream",
     "text": [
      "          id                                            content\n",
      "0          0  区块链正在以前所未有的速度发展。根据IDC数据，2018年中国区块链市场支出规模达1.6亿美...\n",
      "1          1  明天就是儿童节了，连篇累牍的校园性侵事件，为我们纪念这个节日平添了沉重的注脚。当然，历史而言...\n",
      "2          2  WTA世界排名第二的罗马尼亚名将哈勒普宣布，由于新冠肺炎疫情的蔓延，她决定不参加即将开战的美...\n",
      "3          3  教你用几毛钱做瓷砖清洁剂，清洁阿姨都不知道！1.准备一瓶500毫升的矿泉水，倒出一半；2.取...\n",
      "4          4  昨天，国家卫生计生委召开例行新闻发布会，围绕食品安全相关工作及社会热点答记者问。到2015年...\n",
      "...      ...                                                ...\n",
      "32995  32995  中新网长春4月6日电(记者崔颜锋)经吉林省政府“3.29”重大瓦斯事故调查组初步核实：吉林省...\n",
      "32996  32996  近日，由金牌编剧董润年导演并编剧，黄渤、王珞丹、谭卓、白客、黄璐、宋春丽、文淇领衔主演，丁溪...\n",
      "32997  32997  首先，夕阳中AnneHathaway婚纱的粉色不只是光线问题，设计稿中裙摆和头纱的下摆都是渐...\n",
      "32998  32998  6月9日，贵州省高考评卷工作专题组长培训会在贵州师范大学举行，对今年高考评卷工作提出了严格要...\n",
      "32999  32999  下面大宗网小编为您整理一下新股佰仁医疗(688198)的相关内容，希望对打新的小伙伴有所帮助...\n",
      "\n",
      "[33000 rows x 2 columns]\n"
     ]
    }
   ],
   "source": [
    "df = pd.read_csv(\"./unlabeled_data.csv\", engine=\"python\", encoding=\"utf_8_sig\")\n",
    "labels = ['财经','房产','家居','教育','科技','时尚','时政','游戏','娱乐','体育']\n",
    "id_list = []\n",
    "label_list = []\n",
    "content_list = []\n",
    "label_count = {}\n",
    "print(df)"
   ]
  },
  {
   "cell_type": "code",
   "execution_count": 12,
   "metadata": {},
   "outputs": [
    {
     "name": "stdout",
     "output_type": "stream",
     "text": [
      "0\n",
      "1000\n",
      "2000\n",
      "3000\n",
      "4000\n",
      "5000\n",
      "6000\n",
      "7000\n",
      "8000\n",
      "9000\n",
      "10000\n",
      "11000\n",
      "12000\n",
      "13000\n",
      "14000\n",
      "15000\n",
      "16000\n",
      "17000\n",
      "18000\n",
      "19000\n",
      "20000\n",
      "21000\n",
      "22000\n",
      "23000\n",
      "24000\n",
      "25000\n",
      "26000\n",
      "27000\n",
      "28000\n",
      "29000\n",
      "30000\n",
      "31000\n",
      "32000\n",
      "          id class_label                                            content\n",
      "0          0          科技  区块链正在以前所未有的速度发展。根据IDC数据，2018年中国区块链市场支出规模达1.6亿美...\n",
      "1          1          教育  明天就是儿童节了，连篇累牍的校园性侵事件，为我们纪念这个节日平添了沉重的注脚。当然，历史而言...\n",
      "2          8          房产  可怜天下父母心，中国父母都希望把最好的留给孩子，让孩子生活没有压力，当然包括所有的财产。而房...\n",
      "3          9          时尚  作为「指语」文化的发起者，TSL｜谢瑞麟此次特别与传媒集团合作，邀请先锋女歌手尚雯婕，和新生...\n",
      "4         10          教育  日前，辽宁省十三届人大常委会第二十次会议审议了辽宁省政府关于提请审议《辽宁省校外培训机构管理...\n",
      "...      ...         ...                                                ...\n",
      "35981  32982          房产  降息不买房，一年又白忙！央行双降，楼市迎来近年*火金九银十购房旺季。为给网友带来更多购房优惠...\n",
      "35982  32985          游戏  原神马上就要上线了，这里就给大家带来这款游戏中的人物介绍，这里给大家介绍的这个人物是-芭芭拉...\n",
      "35983  32992          时尚  朝北8080是紫石地产斥巨资为年轻人打造的高品质标杆楼盘。项目位于朝阳北路延长线，紧邻地铁6...\n",
      "35984  32993          教育  ­　　上海高考本科志愿填报就要开始了。今年是上海实施“3+3”新高考方案第一年，也是上海考生...\n",
      "35985  32998          教育  6月9日，贵州省高考评卷工作专题组长培训会在贵州师范大学举行，对今年高考评卷工作提出了严格要...\n",
      "\n",
      "[35986 rows x 3 columns]\n"
     ]
    }
   ],
   "source": [
    "for i in range(df.shape[0]):\n",
    "    count = []\n",
    "    if i % 1000 ==0:\n",
    "        print(i)\n",
    "    for j in range(len(labels)):\n",
    "        if labels[j] in df.iloc[i][1]:\n",
    "            count.append(j)\n",
    "    if len(count)==1:\n",
    "        if labels[count[0]] not in label_count:\n",
    "            label_count[labels[count[0]]] = 0\n",
    "        label_count[labels[count[0]]] += 1\n",
    "        id_list.append(df.iloc[i][0])\n",
    "        content_list.append(df.iloc[i][1])\n",
    "        label_list.append(labels[count[0]])\n"
   ]
  },
  {
   "cell_type": "code",
   "execution_count": 40,
   "metadata": {},
   "outputs": [
    {
     "name": "stdout",
     "output_type": "stream",
     "text": [
      "          id class_label                                            content\n",
      "0          0          科技  区块链正在以前所未有的速度发展。根据IDC数据，2018年中国区块链市场支出规模达1.6亿美...\n",
      "1          1          教育  明天就是儿童节了，连篇累牍的校园性侵事件，为我们纪念这个节日平添了沉重的注脚。当然，历史而言...\n",
      "2          8          房产  可怜天下父母心，中国父母都希望把最好的留给孩子，让孩子生活没有压力，当然包括所有的财产。而房...\n",
      "3          9          时尚  作为「指语」文化的发起者，TSL｜谢瑞麟此次特别与传媒集团合作，邀请先锋女歌手尚雯婕，和新生...\n",
      "4         10          教育  日前，辽宁省十三届人大常委会第二十次会议审议了辽宁省政府关于提请审议《辽宁省校外培训机构管理...\n",
      "...      ...         ...                                                ...\n",
      "35981  32982          房产  降息不买房，一年又白忙！央行双降，楼市迎来近年*火金九银十购房旺季。为给网友带来更多购房优惠...\n",
      "35982  32985          游戏  原神马上就要上线了，这里就给大家带来这款游戏中的人物介绍，这里给大家介绍的这个人物是-芭芭拉...\n",
      "35983  32992          时尚  朝北8080是紫石地产斥巨资为年轻人打造的高品质标杆楼盘。项目位于朝阳北路延长线，紧邻地铁6...\n",
      "35984  32993          教育  ­　　上海高考本科志愿填报就要开始了。今年是上海实施“3+3”新高考方案第一年，也是上海考生...\n",
      "35985  32998          教育  6月9日，贵州省高考评卷工作专题组长培训会在贵州师范大学举行，对今年高考评卷工作提出了严格要...\n",
      "\n",
      "[35986 rows x 3 columns]\n",
      "{'科技': 5528, '教育': 8672, '房产': 1015, '时尚': 4953, '体育': 2704, '家居': 2597, '游戏': 8022, '娱乐': 1908, '财经': 553, '时政': 34}\n",
      "<class 'pandas.core.frame.DataFrame'>\n",
      "Int64Index: 1000 entries, 35198 to 2920\n",
      "Data columns (total 3 columns):\n",
      " #   Column       Non-Null Count  Dtype \n",
      "---  ------       --------------  ----- \n",
      " 0   id           1000 non-null   int64 \n",
      " 1   class_label  1000 non-null   object\n",
      " 2   content      1000 non-null   object\n",
      "dtypes: int64(1), object(2)\n",
      "memory usage: 31.2+ KB\n",
      "None\n",
      "<class 'pandas.core.frame.DataFrame'>\n",
      "Int64Index: 1000 entries, 15435 to 21040\n",
      "Data columns (total 3 columns):\n",
      " #   Column       Non-Null Count  Dtype \n",
      "---  ------       --------------  ----- \n",
      " 0   id           1000 non-null   int64 \n",
      " 1   class_label  1000 non-null   object\n",
      " 2   content      1000 non-null   object\n",
      "dtypes: int64(1), object(2)\n",
      "memory usage: 31.2+ KB\n",
      "None\n"
     ]
    }
   ],
   "source": [
    "new_dict = {\"id\":id_list, \"class_label\":label_list, \"content\":content_list}\n",
    "new_df = pd.DataFrame(new_dict)\n",
    "print(new_df)\n",
    "\n",
    "\n",
    "print(label_count)\n",
    "game = new_df.loc[new_df['class_label'] == '游戏'].sample(1000)\n",
    "print(game.info())\n",
    "sports = new_df.loc[new_df['class_label'] == '体育'].sample(1000)\n",
    "print(sports.info())\n",
    "entertainment = new_df.loc[new_df['class_label'] == '娱乐'].sample(1000)\n"
   ]
  },
  {
   "cell_type": "code",
   "execution_count": 46,
   "metadata": {},
   "outputs": [],
   "source": [
    "new_df = pd.merge(pd.merge(game, sports,  how=\"outer\"), entertainment, how=\"outer\")\n"
   ]
  },
  {
   "cell_type": "code",
   "execution_count": 49,
   "metadata": {},
   "outputs": [
    {
     "name": "stdout",
     "output_type": "stream",
     "text": [
      "        id class_label                                            content\n",
      "0        0          教育  人民网北京8月31日电（孙竞）日前，为进一步规范高等学校命名工作，依据相关法律法规规定，结合...\n",
      "1        1          家居  又是一年落叶黄，一阵秋雨一阵凉；整日奔波工作忙，出门别忘添衣裳。金秋时节，正值装修旺季，集美...\n",
      "2        2          教育  作者：祝安顺（深圳大学饶宗颐文化研究院编审、副教授）　　越来越多的名校毕业生入职教师行业，吸...\n",
      "3        3          时尚  虽然此前其有过与品牌如Madawell的合作系列，但这回她确认将推出自己名下的服装系列。在最...\n",
      "4        4          教育  眼下，虽然疫情依然严峻，但我国大中小学都已陆续开学，疫情防控进入常态化，学生校园生活回归正常...\n",
      "...    ...         ...                                                ...\n",
      "6995  6995          教育  近期，国家卫健委发布《学校传染病症状监测预警技术指南》，其中规定，学校传染病达预警指标后，应...\n",
      "6996  6996          房产  新冠肺炎疫情影响之下，房企纷纷开设“线上售楼处”。据克而瑞监测，目前超过150家房企在做线上...\n",
      "6997  6997          教育  学生犯错后，教师能不能惩戒？如何惩戒？惩戒的边界在哪里？9月起，《广东省学校安全条例》（以下...\n",
      "6998  6998          科技  6月3日下午，荣耀为我们带来了全新的荣耀Play4系列新品，包括了Play4和Play4Pr...\n",
      "6999  6999          时政  @人民日报：【好消息速扩！天然气价格4月1日起大幅下调！】发改委今天宣布，4月1日起，我国天...\n",
      "\n",
      "[7000 rows x 3 columns]\n",
      "<class 'pandas.core.frame.DataFrame'>\n",
      "Int64Index: 10000 entries, 0 to 9999\n",
      "Data columns (total 3 columns):\n",
      " #   Column       Non-Null Count  Dtype \n",
      "---  ------       --------------  ----- \n",
      " 0   id           10000 non-null  int64 \n",
      " 1   class_label  10000 non-null  object\n",
      " 2   content      10000 non-null  object\n",
      "dtypes: int64(1), object(2)\n",
      "memory usage: 312.5+ KB\n",
      "None\n"
     ]
    }
   ],
   "source": [
    "df1 = pd.read_csv(\"./labeled_data.csv\", engine=\"python\", encoding=\"utf_8_sig\")\n",
    "print(df1)\n",
    "data_new = pd.merge(df1, new_df, how=\"outer\")\n",
    "print(data_new.info())"
   ]
  },
  {
   "cell_type": "markdown",
   "metadata": {},
   "source": [
    "数据清洗"
   ]
  },
  {
   "cell_type": "code",
   "execution_count": 50,
   "metadata": {},
   "outputs": [],
   "source": [
    "import re\n",
    "def filter(text):\n",
    "    text = re.sub(\"[A-Za-z0-9\\!\\=\\？\\%\\[\\]\\,\\（\\）\\>\\<:&lt;\\/#\\. -----\\_]\", \"\", text)\n",
    "    text = text.replace('图片', '')\n",
    "    text = text.replace('\\xa0', '') # 删除nbsp\n",
    "    # new\n",
    "    r1 =  \"\\\\【.*?】+|\\\\《.*?》+|\\\\#.*?#+|[.!/_,$&%^*()<>+\"\"'?@|;；：　　:~{}#]+|[——！\\\\\\，。=？、：“”‘’￥……（）《》【】]\"\n",
    "    cleanr = re.compile('<.*?>')\n",
    "    text = re.sub(cleanr, ' ', text)        #去除html标签\n",
    "    text = re.sub(r1,'',text)\n",
    "    text = text.strip()\n",
    "    return text"
   ]
  },
  {
   "cell_type": "code",
   "execution_count": 51,
   "metadata": {},
   "outputs": [],
   "source": [
    "def clean_text(data):\n",
    "    data['content'] = data['content'].apply(lambda x: filter(x))\n",
    "    return data"
   ]
  },
  {
   "cell_type": "code",
   "execution_count": 53,
   "metadata": {},
   "outputs": [
    {
     "name": "stdout",
     "output_type": "stream",
     "text": [
      "         id class_label                                            content\n",
      "7330  17146          游戏  和平精英游戏中的勇者宝箱是在周年庆圈中圈模式中获取的此宝箱中有很多的奖励哦那么和平精英勇者宝...\n",
      "3722   3722          教育  中新网月日电综合报道美国高校招生舞弊案日又有重大进展检方透露包括好莱坞女演员菲西丽提·霍夫曼...\n",
      "7961   7856          游戏  在剑与远征中最近也是出了一个皇家犒赏令这个东西是可以通过玩家的努力来获得相应的奖励的那么这个...\n",
      "8521  21281          体育  艾迪佩珀罗尔在社交媒体上不害怕表达他对布赖森德尚博的看法从他打球速度过慢到最近距离上的增加都...\n",
      "2660   2660          财经  今日人民币汇率中间价是多少月日人民币兑美元中间价调升个基点报同时央行公告称目前银行体系流动性...\n",
      "...     ...         ...                                                ...\n",
      "3236   3236          教育  盲盒定制小飞机暗藏宇宙的声音构思巧情意真录取通知书成新生入学第一课人民网北京月日电李依环实习...\n",
      "3155   3155          时尚  我们需要确保我们即将开设的店铺在纽约能够具有很强的竞争力也同时要确保向纽约进军这一步确实能够...\n",
      "956     956          科技  在经历了年这个元年后智能手机已经成功的在顶级旗舰次级旗舰中高端智能手机市场全面铺开随着智能手...\n",
      "2298   2298          科技  日前荣耀举行发布会正式发布了荣耀该机被官方称为风暴王者归来各方面性能不俗更值得一提的是这款手...\n",
      "5826   5826          时尚  颅骨陀飞轮腕表的推出彰显了品牌在创意上的无拘无束与自由豪放在年推出颅骨系列作为该系列的第二款...\n",
      "\n",
      "[10000 rows x 3 columns]\n"
     ]
    }
   ],
   "source": [
    "data_new = clean_text(data_new)\n",
    "data_new = shuffle(data_new)\n",
    "print(data_new)"
   ]
  },
  {
   "cell_type": "code",
   "execution_count": 58,
   "metadata": {},
   "outputs": [],
   "source": [
    "def filterLabel(text):\n",
    "    return labels.index(text)\n",
    "def switchLabel(data):\n",
    "    data['class_label'] = data['class_label'].apply(lambda x:filterLabel(x))\n",
    "    return data\n",
    "data_new = switchLabel(data_new)"
   ]
  },
  {
   "cell_type": "code",
   "execution_count": 67,
   "metadata": {},
   "outputs": [
    {
     "ename": "KeyError",
     "evalue": "\"['id'] not found in axis\"",
     "output_type": "error",
     "traceback": [
      "\u001b[1;31m---------------------------------------------------------------------------\u001b[0m",
      "\u001b[1;31mKeyError\u001b[0m                                  Traceback (most recent call last)",
      "\u001b[1;32m<ipython-input-67-2123ea05f4d7>\u001b[0m in \u001b[0;36m<module>\u001b[1;34m\u001b[0m\n\u001b[1;32m----> 1\u001b[1;33m \u001b[0mdata_new\u001b[0m \u001b[1;33m=\u001b[0m \u001b[0mdata_new\u001b[0m\u001b[1;33m.\u001b[0m\u001b[0mdrop\u001b[0m\u001b[1;33m(\u001b[0m\u001b[0mcolumns\u001b[0m\u001b[1;33m=\u001b[0m\u001b[1;33m[\u001b[0m\u001b[1;34m'id'\u001b[0m\u001b[1;33m]\u001b[0m\u001b[1;33m)\u001b[0m\u001b[1;33m\u001b[0m\u001b[1;33m\u001b[0m\u001b[0m\n\u001b[0m\u001b[0;32m      2\u001b[0m \u001b[0mprint\u001b[0m\u001b[1;33m(\u001b[0m\u001b[0mdata_new\u001b[0m\u001b[1;33m)\u001b[0m\u001b[1;33m\u001b[0m\u001b[1;33m\u001b[0m\u001b[0m\n",
      "\u001b[1;32mC:\\Anaconda3\\lib\\site-packages\\pandas\\core\\frame.py\u001b[0m in \u001b[0;36mdrop\u001b[1;34m(self, labels, axis, index, columns, level, inplace, errors)\u001b[0m\n\u001b[0;32m   3988\u001b[0m                 \u001b[0mweight\u001b[0m  \u001b[1;36m1.0\u001b[0m     \u001b[1;36m0.8\u001b[0m\u001b[1;33m\u001b[0m\u001b[1;33m\u001b[0m\u001b[0m\n\u001b[0;32m   3989\u001b[0m         \"\"\"\n\u001b[1;32m-> 3990\u001b[1;33m         return super().drop(\n\u001b[0m\u001b[0;32m   3991\u001b[0m             \u001b[0mlabels\u001b[0m\u001b[1;33m=\u001b[0m\u001b[0mlabels\u001b[0m\u001b[1;33m,\u001b[0m\u001b[1;33m\u001b[0m\u001b[1;33m\u001b[0m\u001b[0m\n\u001b[0;32m   3992\u001b[0m             \u001b[0maxis\u001b[0m\u001b[1;33m=\u001b[0m\u001b[0maxis\u001b[0m\u001b[1;33m,\u001b[0m\u001b[1;33m\u001b[0m\u001b[1;33m\u001b[0m\u001b[0m\n",
      "\u001b[1;32mC:\\Anaconda3\\lib\\site-packages\\pandas\\core\\generic.py\u001b[0m in \u001b[0;36mdrop\u001b[1;34m(self, labels, axis, index, columns, level, inplace, errors)\u001b[0m\n\u001b[0;32m   3934\u001b[0m         \u001b[1;32mfor\u001b[0m \u001b[0maxis\u001b[0m\u001b[1;33m,\u001b[0m \u001b[0mlabels\u001b[0m \u001b[1;32min\u001b[0m \u001b[0maxes\u001b[0m\u001b[1;33m.\u001b[0m\u001b[0mitems\u001b[0m\u001b[1;33m(\u001b[0m\u001b[1;33m)\u001b[0m\u001b[1;33m:\u001b[0m\u001b[1;33m\u001b[0m\u001b[1;33m\u001b[0m\u001b[0m\n\u001b[0;32m   3935\u001b[0m             \u001b[1;32mif\u001b[0m \u001b[0mlabels\u001b[0m \u001b[1;32mis\u001b[0m \u001b[1;32mnot\u001b[0m \u001b[1;32mNone\u001b[0m\u001b[1;33m:\u001b[0m\u001b[1;33m\u001b[0m\u001b[1;33m\u001b[0m\u001b[0m\n\u001b[1;32m-> 3936\u001b[1;33m                 \u001b[0mobj\u001b[0m \u001b[1;33m=\u001b[0m \u001b[0mobj\u001b[0m\u001b[1;33m.\u001b[0m\u001b[0m_drop_axis\u001b[0m\u001b[1;33m(\u001b[0m\u001b[0mlabels\u001b[0m\u001b[1;33m,\u001b[0m \u001b[0maxis\u001b[0m\u001b[1;33m,\u001b[0m \u001b[0mlevel\u001b[0m\u001b[1;33m=\u001b[0m\u001b[0mlevel\u001b[0m\u001b[1;33m,\u001b[0m \u001b[0merrors\u001b[0m\u001b[1;33m=\u001b[0m\u001b[0merrors\u001b[0m\u001b[1;33m)\u001b[0m\u001b[1;33m\u001b[0m\u001b[1;33m\u001b[0m\u001b[0m\n\u001b[0m\u001b[0;32m   3937\u001b[0m \u001b[1;33m\u001b[0m\u001b[0m\n\u001b[0;32m   3938\u001b[0m         \u001b[1;32mif\u001b[0m \u001b[0minplace\u001b[0m\u001b[1;33m:\u001b[0m\u001b[1;33m\u001b[0m\u001b[1;33m\u001b[0m\u001b[0m\n",
      "\u001b[1;32mC:\\Anaconda3\\lib\\site-packages\\pandas\\core\\generic.py\u001b[0m in \u001b[0;36m_drop_axis\u001b[1;34m(self, labels, axis, level, errors)\u001b[0m\n\u001b[0;32m   3968\u001b[0m                 \u001b[0mnew_axis\u001b[0m \u001b[1;33m=\u001b[0m \u001b[0maxis\u001b[0m\u001b[1;33m.\u001b[0m\u001b[0mdrop\u001b[0m\u001b[1;33m(\u001b[0m\u001b[0mlabels\u001b[0m\u001b[1;33m,\u001b[0m \u001b[0mlevel\u001b[0m\u001b[1;33m=\u001b[0m\u001b[0mlevel\u001b[0m\u001b[1;33m,\u001b[0m \u001b[0merrors\u001b[0m\u001b[1;33m=\u001b[0m\u001b[0merrors\u001b[0m\u001b[1;33m)\u001b[0m\u001b[1;33m\u001b[0m\u001b[1;33m\u001b[0m\u001b[0m\n\u001b[0;32m   3969\u001b[0m             \u001b[1;32melse\u001b[0m\u001b[1;33m:\u001b[0m\u001b[1;33m\u001b[0m\u001b[1;33m\u001b[0m\u001b[0m\n\u001b[1;32m-> 3970\u001b[1;33m                 \u001b[0mnew_axis\u001b[0m \u001b[1;33m=\u001b[0m \u001b[0maxis\u001b[0m\u001b[1;33m.\u001b[0m\u001b[0mdrop\u001b[0m\u001b[1;33m(\u001b[0m\u001b[0mlabels\u001b[0m\u001b[1;33m,\u001b[0m \u001b[0merrors\u001b[0m\u001b[1;33m=\u001b[0m\u001b[0merrors\u001b[0m\u001b[1;33m)\u001b[0m\u001b[1;33m\u001b[0m\u001b[1;33m\u001b[0m\u001b[0m\n\u001b[0m\u001b[0;32m   3971\u001b[0m             \u001b[0mresult\u001b[0m \u001b[1;33m=\u001b[0m \u001b[0mself\u001b[0m\u001b[1;33m.\u001b[0m\u001b[0mreindex\u001b[0m\u001b[1;33m(\u001b[0m\u001b[1;33m**\u001b[0m\u001b[1;33m{\u001b[0m\u001b[0maxis_name\u001b[0m\u001b[1;33m:\u001b[0m \u001b[0mnew_axis\u001b[0m\u001b[1;33m}\u001b[0m\u001b[1;33m)\u001b[0m\u001b[1;33m\u001b[0m\u001b[1;33m\u001b[0m\u001b[0m\n\u001b[0;32m   3972\u001b[0m \u001b[1;33m\u001b[0m\u001b[0m\n",
      "\u001b[1;32mC:\\Anaconda3\\lib\\site-packages\\pandas\\core\\indexes\\base.py\u001b[0m in \u001b[0;36mdrop\u001b[1;34m(self, labels, errors)\u001b[0m\n\u001b[0;32m   5016\u001b[0m         \u001b[1;32mif\u001b[0m \u001b[0mmask\u001b[0m\u001b[1;33m.\u001b[0m\u001b[0many\u001b[0m\u001b[1;33m(\u001b[0m\u001b[1;33m)\u001b[0m\u001b[1;33m:\u001b[0m\u001b[1;33m\u001b[0m\u001b[1;33m\u001b[0m\u001b[0m\n\u001b[0;32m   5017\u001b[0m             \u001b[1;32mif\u001b[0m \u001b[0merrors\u001b[0m \u001b[1;33m!=\u001b[0m \u001b[1;34m\"ignore\"\u001b[0m\u001b[1;33m:\u001b[0m\u001b[1;33m\u001b[0m\u001b[1;33m\u001b[0m\u001b[0m\n\u001b[1;32m-> 5018\u001b[1;33m                 \u001b[1;32mraise\u001b[0m \u001b[0mKeyError\u001b[0m\u001b[1;33m(\u001b[0m\u001b[1;34mf\"{labels[mask]} not found in axis\"\u001b[0m\u001b[1;33m)\u001b[0m\u001b[1;33m\u001b[0m\u001b[1;33m\u001b[0m\u001b[0m\n\u001b[0m\u001b[0;32m   5019\u001b[0m             \u001b[0mindexer\u001b[0m \u001b[1;33m=\u001b[0m \u001b[0mindexer\u001b[0m\u001b[1;33m[\u001b[0m\u001b[1;33m~\u001b[0m\u001b[0mmask\u001b[0m\u001b[1;33m]\u001b[0m\u001b[1;33m\u001b[0m\u001b[1;33m\u001b[0m\u001b[0m\n\u001b[0;32m   5020\u001b[0m         \u001b[1;32mreturn\u001b[0m \u001b[0mself\u001b[0m\u001b[1;33m.\u001b[0m\u001b[0mdelete\u001b[0m\u001b[1;33m(\u001b[0m\u001b[0mindexer\u001b[0m\u001b[1;33m)\u001b[0m\u001b[1;33m\u001b[0m\u001b[1;33m\u001b[0m\u001b[0m\n",
      "\u001b[1;31mKeyError\u001b[0m: \"['id'] not found in axis\""
     ]
    }
   ],
   "source": [
    "data_new = data_new.drop(columns=['id'])\n"
   ]
  },
  {
   "cell_type": "code",
   "execution_count": 68,
   "metadata": {},
   "outputs": [
    {
     "name": "stdout",
     "output_type": "stream",
     "text": [
      "      class_label                                            content\n",
      "7330            7  和平精英游戏中的勇者宝箱是在周年庆圈中圈模式中获取的此宝箱中有很多的奖励哦那么和平精英勇者宝...\n",
      "3722            3  中新网月日电综合报道美国高校招生舞弊案日又有重大进展检方透露包括好莱坞女演员菲西丽提·霍夫曼...\n",
      "7961            7  在剑与远征中最近也是出了一个皇家犒赏令这个东西是可以通过玩家的努力来获得相应的奖励的那么这个...\n",
      "8521            9  艾迪佩珀罗尔在社交媒体上不害怕表达他对布赖森德尚博的看法从他打球速度过慢到最近距离上的增加都...\n",
      "2660            0  今日人民币汇率中间价是多少月日人民币兑美元中间价调升个基点报同时央行公告称目前银行体系流动性...\n",
      "...           ...                                                ...\n",
      "3236            3  盲盒定制小飞机暗藏宇宙的声音构思巧情意真录取通知书成新生入学第一课人民网北京月日电李依环实习...\n",
      "3155            5  我们需要确保我们即将开设的店铺在纽约能够具有很强的竞争力也同时要确保向纽约进军这一步确实能够...\n",
      "956             4  在经历了年这个元年后智能手机已经成功的在顶级旗舰次级旗舰中高端智能手机市场全面铺开随着智能手...\n",
      "2298            4  日前荣耀举行发布会正式发布了荣耀该机被官方称为风暴王者归来各方面性能不俗更值得一提的是这款手...\n",
      "5826            5  颅骨陀飞轮腕表的推出彰显了品牌在创意上的无拘无束与自由豪放在年推出颅骨系列作为该系列的第二款...\n",
      "\n",
      "[10000 rows x 2 columns]\n"
     ]
    }
   ],
   "source": [
    "print(data_new)"
   ]
  },
  {
   "cell_type": "code",
   "execution_count": 69,
   "metadata": {},
   "outputs": [
    {
     "name": "stdout",
     "output_type": "stream",
     "text": [
      "      class_label                                            content\n",
      "7330            7  和平精英游戏中的勇者宝箱是在周年庆圈中圈模式中获取的此宝箱中有很多的奖励哦那么和平精英勇者宝...\n",
      "3722            3  中新网月日电综合报道美国高校招生舞弊案日又有重大进展检方透露包括好莱坞女演员菲西丽提·霍夫曼...\n",
      "7961            7  在剑与远征中最近也是出了一个皇家犒赏令这个东西是可以通过玩家的努力来获得相应的奖励的那么这个...\n",
      "8521            9  艾迪佩珀罗尔在社交媒体上不害怕表达他对布赖森德尚博的看法从他打球速度过慢到最近距离上的增加都...\n",
      "2660            0  今日人民币汇率中间价是多少月日人民币兑美元中间价调升个基点报同时央行公告称目前银行体系流动性...\n",
      "2542            3  作者余蓝北京语言大学人文社会科学学部副教授洪成文北京师范大学高等教育研究院教授根据教育部最新...\n",
      "8515            9  俄罗斯票房口碑神作即将于月日在全国上映日前本片点映全国开启观众被电影中热血澎湃的气氛感染不仅...\n",
      "1844            4  各位老铁大家好今天准备和大家聊一聊亚马逊广告里面的一个关键词指标也就是有效点击率简称的定义我...\n",
      "976             1  房山中骏云景台由港股上市房企中骏倾力打造南城超大型高品质社区涵盖住宅长租公寓商业综合体等多元...\n",
      "9685            8  记者日从赵红霞辩护律师处获悉赵红霞已于年月日被重庆市人民检察院某分院以敲诈勒索罪批准逮捕目前...\n",
      "4915            4  月日荣耀手机官方发布消息称在京东超级品牌日期间荣耀系列丨世界自然基金会推出联名款礼盒该款联名...\n",
      "2759            3  人民网北京月日电新时代的我们要思考应该以怎样的奋斗姿态为我们热爱的阿中哥哥打在日前给全校同学...\n",
      "4654            6  中央第七巡视组向清华大学党委反馈专项巡视情况中央第七巡视组向清华大学党委反馈专项巡视情况中央...\n",
      "7212            7  重装上阵这款游戏可以说是充分发挥玩家想象力的游戏玩家可以在这里自己组装自己的脑洞战车甚至是机...\n",
      "5736            6  中新网北京月日电今年月中共中央印发了和中共的反腐制度设计再度得到完善不过一段时间以来舆论中也...\n",
      "6543            3  北京外国语大学坐落在北京市海淀区西三环北路在三环路两侧分设东西两个校区是教育部直属首批工程高...\n",
      "5974            2  昨日由中国陶瓷知识产权信息中心主办陶瓷世界报承办的聚焦岩值岩板应用及发展多方会谈暨中国岩值榜...\n",
      "5494            5  能够轻描淡写地完成她所做的一切蒂尔达·斯文顿在红毯上与大银幕上同样吸睛她天仙般的美丽天鹅般的...\n",
      "3735            3  南京市力学小学从一年级学生入学就开始抓劳动教育学校倡导劳动从一臂时空做起每个孩子要管好自己的...\n",
      "9032            8  手机对于年轻人来说是不可或缺的娱乐工具如果时常被手机的卡顿拍照不清晰以及续航所困扰的话日常生...\n",
      "6844            5  高圆圆身着系列尽显优雅风情作者时间年月日内容来源时尚网来源时尚网文章导读近日当红影星高圆圆小...\n",
      "2029            4  近日三星盖乐世官宣三星馥郁红国行版即将上市为国内用户再添优质精品在刚刚过去的月中苹果产品销量...\n",
      "2342            2  乐扣乐扣携手百诚集团大举进军智能家居领域随着技术商业加速落地智能家居已经逐渐成为未来智慧家庭...\n",
      "9609            8  为什么马会打滚儿马打滚一般有四种原因为了娱乐为了自我打理为了缓解疼痛和不适为了休息如果马所处...\n",
      "5827            0  月日郑商所就纯碱期货合约和规则制度面向全市场公开征求意见根据公布的征求意见稿纯碱期货合约的交...\n",
      "1884            1  萬橡悦府昌平新楼盘萬橡悦府项目在择址之初就做到人本考量珍视稀贵的土地尊重历史文脉远见城市板块...\n",
      "4714            6  ­切实开展批评和自我批评勇于揭露和纠正工作中的缺点错误坚决同消极腐败现象作斗争­相信很多人对...\n",
      "7885            7  今日电影乘坐欲望战舰降临帆船之都青岛展开路演行动导演张鹏携主演吴磊张艺上图卡悉数亮相活动现场...\n",
      "5340            5  痘痘肌肤比一般肌肤老化的更快大多数痘痘肌肤都存在炎症问题所以肌肤表面会有红包但在肌肤深层一个...\n",
      "7290            7  在梦幻西游三维版中摆摊是经典的玩法玩家可以把自己不要的东西放在摊位上出售而有时候玩家也可以去...\n",
      "9548            8  娱乐圈首位以满族格格身份出道发行满汉双语专辑出演映象电影出演电影女一号出道不满三年隽子哥向娱...\n",
      "4845            3  光明日报记者靳晓燕唐芊尔编者按刚刚过去的毕业季万高校毕业生走出校园迈向人生新的航道科研助理特...\n",
      "7130            7  熟悉手机圈的朋友都知道以前两个手机厂商在同一天召开发布会的情况时有发生这时候就比拼谁的人气更...\n",
      "2095            6  新华网北京月日电中共中央政治局常委国务院副总理张高丽日出席在北京召开的京津冀及周边地区大气污...\n",
      "3394            4  近期一加系列渲染图频繁在网上曝光而且该系列手机还有望搭载高通骁龙高刷新率屏幕无线充电等一系列...\n",
      "7410            7  公主连结游戏中目前已经开启了探索掉落量倍庆典玩法本次活动中玩家们有很多的资源可以收益对于不氪...\n",
      "3084            6  原标题神风申遗是侮辱人类良知对于安倍等日本右翼势力为军国主义招魂的新造神运动世界应该明言无视...\n",
      "2429            2  地暖是安装在地下的在寒冷的冬季使用地暖取暖会非常的舒服目前市面上地暖有很多品牌其中暖先森的石...\n",
      "8000            9  年的选秀在抽签顺序正式确定之前不能进行在赛季正式结束之前彩票的订单还不能正式解决五月底当我们...\n"
     ]
    }
   ],
   "source": [
    "train = data_new.loc[:8000]\n",
    "dev = data_new.loc[8000:]\n",
    "test = data_new.loc[8000:]\n",
    "\n",
    "print(train)"
   ]
  },
  {
   "cell_type": "code",
   "execution_count": 70,
   "metadata": {},
   "outputs": [],
   "source": [
    "train.to_csv('./train.csv', index=False, header=False)\n",
    "test.to_csv('./dev.csv', index=False, header=False)\n",
    "test.to_csv('./test.csv', index=False, header=False)"
   ]
  },
  {
   "cell_type": "code",
   "execution_count": null,
   "metadata": {},
   "outputs": [],
   "source": []
  }
 ],
 "metadata": {
  "kernelspec": {
   "display_name": "Python 3",
   "language": "python",
   "name": "python3"
  },
  "language_info": {
   "codemirror_mode": {
    "name": "ipython",
    "version": 3
   },
   "file_extension": ".py",
   "mimetype": "text/x-python",
   "name": "python",
   "nbconvert_exporter": "python",
   "pygments_lexer": "ipython3",
   "version": "3.8.3"
  }
 },
 "nbformat": 4,
 "nbformat_minor": 4
}
