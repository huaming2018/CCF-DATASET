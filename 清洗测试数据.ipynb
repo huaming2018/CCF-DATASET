{
 "cells": [
  {
   "cell_type": "code",
   "execution_count": 1,
   "metadata": {},
   "outputs": [],
   "source": [
    "import pandas as pd"
   ]
  },
  {
   "cell_type": "code",
   "execution_count": 3,
   "metadata": {},
   "outputs": [
    {
     "data": {
      "text/html": [
       "<div>\n",
       "<style scoped>\n",
       "    .dataframe tbody tr th:only-of-type {\n",
       "        vertical-align: middle;\n",
       "    }\n",
       "\n",
       "    .dataframe tbody tr th {\n",
       "        vertical-align: top;\n",
       "    }\n",
       "\n",
       "    .dataframe thead th {\n",
       "        text-align: right;\n",
       "    }\n",
       "</style>\n",
       "<table border=\"1\" class=\"dataframe\">\n",
       "  <thead>\n",
       "    <tr style=\"text-align: right;\">\n",
       "      <th></th>\n",
       "      <th>id</th>\n",
       "      <th>content</th>\n",
       "    </tr>\n",
       "  </thead>\n",
       "  <tbody>\n",
       "    <tr>\n",
       "      <th>0</th>\n",
       "      <td>0</td>\n",
       "      <td>剑与远征中的迷宫遗物是一些非常不错的装备，不过其中的迷宫遗物是有着非常的多的，不少小伙伴都不...</td>\n",
       "    </tr>\n",
       "    <tr>\n",
       "      <th>1</th>\n",
       "      <td>1</td>\n",
       "      <td>纽约尼克斯队近50年来没有赢得NBA总冠军。尽管在接下来的几年里有一大批所谓的救世主，但他们...</td>\n",
       "    </tr>\n",
       "    <tr>\n",
       "      <th>2</th>\n",
       "      <td>2</td>\n",
       "      <td>2020年初，一场疫情席卷而来，疫情期间长时间的宅家生活，让人们对家有了更深刻的理解。如今，...</td>\n",
       "    </tr>\n",
       "    <tr>\n",
       "      <th>3</th>\n",
       "      <td>3</td>\n",
       "      <td>2020年7月26日上午，在第三届进博会倒计时100天之际，第三届进博会参展商联盟第一次会议...</td>\n",
       "    </tr>\n",
       "    <tr>\n",
       "      <th>4</th>\n",
       "      <td>4</td>\n",
       "      <td>在剑与远征这款游戏中，玩家们可以在前期刷英雄，就是俗称的刷初始，不过很多玩家都是选择不氪金玩...</td>\n",
       "    </tr>\n",
       "    <tr>\n",
       "      <th>...</th>\n",
       "      <td>...</td>\n",
       "      <td>...</td>\n",
       "    </tr>\n",
       "    <tr>\n",
       "      <th>19995</th>\n",
       "      <td>19995</td>\n",
       "      <td>起中国，美国自由自主的大学生活着实让我们羡慕万分。但你知道吗？美国的的大学生并不仅仅把大学当...</td>\n",
       "    </tr>\n",
       "    <tr>\n",
       "      <th>19996</th>\n",
       "      <td>19996</td>\n",
       "      <td>2020年的春天，全国人民都“宅”在家中等待疫情缓解，这几周时间A股尤其是创业板的强势走势很...</td>\n",
       "    </tr>\n",
       "    <tr>\n",
       "      <th>19997</th>\n",
       "      <td>19997</td>\n",
       "      <td>马来西亚国羽男女队在今年10月3至11日丹麦奥胡斯汤尤杯决赛圈中订下的目标分别是4强和8强，...</td>\n",
       "    </tr>\n",
       "    <tr>\n",
       "      <th>19998</th>\n",
       "      <td>19998</td>\n",
       "      <td>­　　昨天上午，中央戏剧学院2017年艺术生考试拉开帷幕。表演专业的考生在校内的黑匣子剧场候...</td>\n",
       "    </tr>\n",
       "    <tr>\n",
       "      <th>19999</th>\n",
       "      <td>19999</td>\n",
       "      <td>剑与远征中有着非常多的角色，我们要保证一个阵容上的平衡所以需要各种角色，比如输出还有控制类型...</td>\n",
       "    </tr>\n",
       "  </tbody>\n",
       "</table>\n",
       "<p>20000 rows × 2 columns</p>\n",
       "</div>"
      ],
      "text/plain": [
       "          id                                            content\n",
       "0          0  剑与远征中的迷宫遗物是一些非常不错的装备，不过其中的迷宫遗物是有着非常的多的，不少小伙伴都不...\n",
       "1          1  纽约尼克斯队近50年来没有赢得NBA总冠军。尽管在接下来的几年里有一大批所谓的救世主，但他们...\n",
       "2          2  2020年初，一场疫情席卷而来，疫情期间长时间的宅家生活，让人们对家有了更深刻的理解。如今，...\n",
       "3          3  2020年7月26日上午，在第三届进博会倒计时100天之际，第三届进博会参展商联盟第一次会议...\n",
       "4          4  在剑与远征这款游戏中，玩家们可以在前期刷英雄，就是俗称的刷初始，不过很多玩家都是选择不氪金玩...\n",
       "...      ...                                                ...\n",
       "19995  19995  起中国，美国自由自主的大学生活着实让我们羡慕万分。但你知道吗？美国的的大学生并不仅仅把大学当...\n",
       "19996  19996  2020年的春天，全国人民都“宅”在家中等待疫情缓解，这几周时间A股尤其是创业板的强势走势很...\n",
       "19997  19997  马来西亚国羽男女队在今年10月3至11日丹麦奥胡斯汤尤杯决赛圈中订下的目标分别是4强和8强，...\n",
       "19998  19998  ­　　昨天上午，中央戏剧学院2017年艺术生考试拉开帷幕。表演专业的考生在校内的黑匣子剧场候...\n",
       "19999  19999  剑与远征中有着非常多的角色，我们要保证一个阵容上的平衡所以需要各种角色，比如输出还有控制类型...\n",
       "\n",
       "[20000 rows x 2 columns]"
      ]
     },
     "execution_count": 3,
     "metadata": {},
     "output_type": "execute_result"
    }
   ],
   "source": [
    "df = pd.read_csv(\"./test_data.csv\", engine=\"python\", encoding=\"utf_8_sig\")\n",
    "df"
   ]
  },
  {
   "cell_type": "code",
   "execution_count": null,
   "metadata": {},
   "outputs": [],
   "source": [
    "import re\n",
    "def filter(text):\n",
    "    text = re.sub(\"[A-Za-z0-9\\!\\=\\？\\%\\[\\]\\,\\（\\）\\>\\<:&lt;\\/#\\. -----\\_]\", \"\", text)\n",
    "    text = text.replace('图片', '')\n",
    "    text = text.replace('\\xa0', '') # 删除nbsp\n",
    "    # new\n",
    "    r1 =  \"\\\\【.*?】+|\\\\《.*?》+|\\\\#.*?#+|[.!/_,$&%^*()<>+\"\"'?@|;；：　　:~{}#]+|[——！\\\\\\，。=？、：“”‘’￥……（）《》【】]\"\n",
    "    cleanr = re.compile('<.*?>')\n",
    "    text = re.sub(cleanr, ' ', text)        #去除html标签\n",
    "    text = re.sub(r1,'',text)\n",
    "    text = text.strip()\n",
    "    return text"
   ]
  },
  {
   "cell_type": "code",
   "execution_count": null,
   "metadata": {},
   "outputs": [],
   "source": [
    "def clean_text(data):\n",
    "    data['content'] = data['content'].apply(lambda x: filter(x))\n",
    "    return data"
   ]
  },
  {
   "cell_type": "code",
   "execution_count": null,
   "metadata": {},
   "outputs": [],
   "source": [
    "df = clean_text(df)"
   ]
  }
 ],
 "metadata": {
  "kernelspec": {
   "display_name": "Python 3",
   "language": "python",
   "name": "python3"
  },
  "language_info": {
   "codemirror_mode": {
    "name": "ipython",
    "version": 3
   },
   "file_extension": ".py",
   "mimetype": "text/x-python",
   "name": "python",
   "nbconvert_exporter": "python",
   "pygments_lexer": "ipython3",
   "version": "3.8.3"
  }
 },
 "nbformat": 4,
 "nbformat_minor": 4
}
