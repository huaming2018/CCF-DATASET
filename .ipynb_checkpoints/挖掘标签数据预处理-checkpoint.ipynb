{
 "cells": [
  {
   "cell_type": "markdown",
   "metadata": {},
   "source": [
    "处理未标签数据 对每个样本都检测时候有分类标签 如果这个样本只有一个标签 则认为这个样本是属于这个标签的"
   ]
  },
  {
   "cell_type": "code",
   "execution_count": 1,
   "metadata": {},
   "outputs": [],
   "source": [
    "import pandas as pd\n",
    "import random\n",
    "import csv\n",
    "from sklearn.utils import shuffle"
   ]
  },
  {
   "cell_type": "code",
   "execution_count": 107,
   "metadata": {},
   "outputs": [
    {
     "name": "stdout",
     "output_type": "stream",
     "text": [
      "          id                                            content\n",
      "0          0  区块链正在以前所未有的速度发展。根据IDC数据，2018年中国区块链市场支出规模达1.6亿美...\n",
      "1          1  明天就是儿童节了，连篇累牍的校园性侵事件，为我们纪念这个节日平添了沉重的注脚。当然，历史而言...\n",
      "2          2  WTA世界排名第二的罗马尼亚名将哈勒普宣布，由于新冠肺炎疫情的蔓延，她决定不参加即将开战的美...\n",
      "3          3  教你用几毛钱做瓷砖清洁剂，清洁阿姨都不知道！1.准备一瓶500毫升的矿泉水，倒出一半；2.取...\n",
      "4          4  昨天，国家卫生计生委召开例行新闻发布会，围绕食品安全相关工作及社会热点答记者问。到2015年...\n",
      "...      ...                                                ...\n",
      "32995  32995  中新网长春4月6日电(记者崔颜锋)经吉林省政府“3.29”重大瓦斯事故调查组初步核实：吉林省...\n",
      "32996  32996  近日，由金牌编剧董润年导演并编剧，黄渤、王珞丹、谭卓、白客、黄璐、宋春丽、文淇领衔主演，丁溪...\n",
      "32997  32997  首先，夕阳中AnneHathaway婚纱的粉色不只是光线问题，设计稿中裙摆和头纱的下摆都是渐...\n",
      "32998  32998  6月9日，贵州省高考评卷工作专题组长培训会在贵州师范大学举行，对今年高考评卷工作提出了严格要...\n",
      "32999  32999  下面大宗网小编为您整理一下新股佰仁医疗(688198)的相关内容，希望对打新的小伙伴有所帮助...\n",
      "\n",
      "[33000 rows x 2 columns]\n"
     ]
    }
   ],
   "source": [
    "df = pd.read_csv(\"./unlabeled_data.csv\", engine=\"python\", encoding=\"utf_8_sig\")\n",
    "labels = ['财经','房产','家居','教育','科技','时尚','时政','游戏','娱乐','体育']\n",
    "id_list = []\n",
    "label_list = []\n",
    "content_list = []\n",
    "label_count = {}\n",
    "print(df)"
   ]
  },
  {
   "cell_type": "code",
   "execution_count": 108,
   "metadata": {},
   "outputs": [
    {
     "name": "stdout",
     "output_type": "stream",
     "text": [
      "0\n",
      "1000\n",
      "2000\n",
      "3000\n",
      "4000\n",
      "5000\n",
      "6000\n",
      "7000\n",
      "8000\n",
      "9000\n",
      "10000\n",
      "11000\n",
      "12000\n",
      "13000\n",
      "14000\n",
      "15000\n",
      "16000\n",
      "17000\n",
      "18000\n",
      "19000\n",
      "20000\n",
      "21000\n",
      "22000\n",
      "23000\n",
      "24000\n",
      "25000\n",
      "26000\n",
      "27000\n",
      "28000\n",
      "29000\n",
      "30000\n",
      "31000\n",
      "32000\n"
     ]
    }
   ],
   "source": [
    "for i in range(df.shape[0]):\n",
    "    count = []\n",
    "    if i % 1000 ==0:\n",
    "        print(i)\n",
    "    for j in range(len(labels)):\n",
    "        if labels[j] in df.iloc[i][1]:\n",
    "            count.append(j)\n",
    "    if len(count)==1:\n",
    "        if labels[count[0]] not in label_count:\n",
    "            label_count[labels[count[0]]] = 0\n",
    "        label_count[labels[count[0]]] += 1\n",
    "        id_list.append(df.iloc[i][0])\n",
    "        content_list.append(df.iloc[i][1])\n",
    "        label_list.append(labels[count[0]])\n"
   ]
  },
  {
   "cell_type": "code",
   "execution_count": 123,
   "metadata": {},
   "outputs": [
    {
     "name": "stdout",
     "output_type": "stream",
     "text": [
      "          id class_label                                            content\n",
      "0          0          科技  区块链正在以前所未有的速度发展。根据IDC数据，2018年中国区块链市场支出规模达1.6亿美...\n",
      "1          1          教育  明天就是儿童节了，连篇累牍的校园性侵事件，为我们纪念这个节日平添了沉重的注脚。当然，历史而言...\n",
      "2          8          房产  可怜天下父母心，中国父母都希望把最好的留给孩子，让孩子生活没有压力，当然包括所有的财产。而房...\n",
      "3          9          时尚  作为「指语」文化的发起者，TSL｜谢瑞麟此次特别与传媒集团合作，邀请先锋女歌手尚雯婕，和新生...\n",
      "4         10          教育  日前，辽宁省十三届人大常委会第二十次会议审议了辽宁省政府关于提请审议《辽宁省校外培训机构管理...\n",
      "...      ...         ...                                                ...\n",
      "10470  32982          房产  降息不买房，一年又白忙！央行双降，楼市迎来近年*火金九银十购房旺季。为给网友带来更多购房优惠...\n",
      "10471  32985          游戏  原神马上就要上线了，这里就给大家带来这款游戏中的人物介绍，这里给大家介绍的这个人物是-芭芭拉...\n",
      "10472  32992          时尚  朝北8080是紫石地产斥巨资为年轻人打造的高品质标杆楼盘。项目位于朝阳北路延长线，紧邻地铁6...\n",
      "10473  32993          教育  ­　　上海高考本科志愿填报就要开始了。今年是上海实施“3+3”新高考方案第一年，也是上海考生...\n",
      "10474  32998          教育  6月9日，贵州省高考评卷工作专题组长培训会在贵州师范大学举行，对今年高考评卷工作提出了严格要...\n",
      "\n",
      "[10475 rows x 3 columns]\n",
      "{'科技': 1600, '教育': 2521, '房产': 299, '时尚': 1443, '体育': 788, '家居': 761, '游戏': 2338, '娱乐': 554, '财经': 162, '时政': 9}\n",
      "<class 'pandas.core.frame.DataFrame'>\n",
      "Int64Index: 1000 entries, 3577 to 2106\n",
      "Data columns (total 3 columns):\n",
      " #   Column       Non-Null Count  Dtype \n",
      "---  ------       --------------  ----- \n",
      " 0   id           1000 non-null   int64 \n",
      " 1   class_label  1000 non-null   object\n",
      " 2   content      1000 non-null   object\n",
      "dtypes: int64(1), object(2)\n",
      "memory usage: 31.2+ KB\n",
      "None\n",
      "<class 'pandas.core.frame.DataFrame'>\n",
      "Int64Index: 788 entries, 5 to 10469\n",
      "Data columns (total 3 columns):\n",
      " #   Column       Non-Null Count  Dtype \n",
      "---  ------       --------------  ----- \n",
      " 0   id           788 non-null    int64 \n",
      " 1   class_label  788 non-null    object\n",
      " 2   content      788 non-null    object\n",
      "dtypes: int64(1), object(2)\n",
      "memory usage: 24.6+ KB\n",
      "None\n"
     ]
    }
   ],
   "source": [
    "new_dict = {\"id\":id_list, \"class_label\":label_list, \"content\":content_list}\n",
    "new_df = pd.DataFrame(new_dict)\n",
    "print(new_df)\n",
    "\n",
    "\n",
    "print(label_count)\n",
    "game = new_df.loc[new_df['class_label'] == '游戏'].sample(1000)\n",
    "print(game.info())\n",
    "sports = new_df.loc[new_df['class_label'] == '体育']\n",
    "print(sports.info())\n",
    "entertainment = new_df.loc[new_df['class_label'] == '娱乐']\n"
   ]
  },
  {
   "cell_type": "code",
   "execution_count": 124,
   "metadata": {},
   "outputs": [],
   "source": [
    "new_df = pd.merge(pd.merge(game, sports,  how=\"outer\"), entertainment, how=\"outer\")\n"
   ]
  },
  {
   "cell_type": "code",
   "execution_count": 125,
   "metadata": {},
   "outputs": [
    {
     "name": "stdout",
     "output_type": "stream",
     "text": [
      "        id class_label                                            content\n",
      "0        0          教育  人民网北京8月31日电（孙竞）日前，为进一步规范高等学校命名工作，依据相关法律法规规定，结合...\n",
      "1        1          家居  又是一年落叶黄，一阵秋雨一阵凉；整日奔波工作忙，出门别忘添衣裳。金秋时节，正值装修旺季，集美...\n",
      "2        2          教育  作者：祝安顺（深圳大学饶宗颐文化研究院编审、副教授）　　越来越多的名校毕业生入职教师行业，吸...\n",
      "3        3          时尚  虽然此前其有过与品牌如Madawell的合作系列，但这回她确认将推出自己名下的服装系列。在最...\n",
      "4        4          教育  眼下，虽然疫情依然严峻，但我国大中小学都已陆续开学，疫情防控进入常态化，学生校园生活回归正常...\n",
      "...    ...         ...                                                ...\n",
      "6995  6995          教育  近期，国家卫健委发布《学校传染病症状监测预警技术指南》，其中规定，学校传染病达预警指标后，应...\n",
      "6996  6996          房产  新冠肺炎疫情影响之下，房企纷纷开设“线上售楼处”。据克而瑞监测，目前超过150家房企在做线上...\n",
      "6997  6997          教育  学生犯错后，教师能不能惩戒？如何惩戒？惩戒的边界在哪里？9月起，《广东省学校安全条例》（以下...\n",
      "6998  6998          科技  6月3日下午，荣耀为我们带来了全新的荣耀Play4系列新品，包括了Play4和Play4Pr...\n",
      "6999  6999          时政  @人民日报：【好消息速扩！天然气价格4月1日起大幅下调！】发改委今天宣布，4月1日起，我国天...\n",
      "\n",
      "[7000 rows x 3 columns]\n",
      "<class 'pandas.core.frame.DataFrame'>\n",
      "Int64Index: 9342 entries, 0 to 9341\n",
      "Data columns (total 3 columns):\n",
      " #   Column       Non-Null Count  Dtype \n",
      "---  ------       --------------  ----- \n",
      " 0   id           9342 non-null   int64 \n",
      " 1   class_label  9342 non-null   object\n",
      " 2   content      9342 non-null   object\n",
      "dtypes: int64(1), object(2)\n",
      "memory usage: 291.9+ KB\n",
      "None\n"
     ]
    }
   ],
   "source": [
    "df1 = pd.read_csv(\"./labeled_data.csv\", engine=\"python\", encoding=\"utf_8_sig\")\n",
    "print(df1)\n",
    "data_new = pd.merge(df1, new_df, how=\"outer\")\n",
    "print(data_new.info())"
   ]
  },
  {
   "cell_type": "markdown",
   "metadata": {},
   "source": [
    "数据清洗"
   ]
  },
  {
   "cell_type": "code",
   "execution_count": 126,
   "metadata": {},
   "outputs": [],
   "source": [
    "import re\n",
    "def filter(text):\n",
    "    text = re.sub(\"[A-Za-z0-9\\!\\=\\？\\%\\[\\]\\,\\（\\）\\>\\<:&lt;\\/#\\. -----\\_]\", \"\", text)\n",
    "    text = text.replace('图片', '')\n",
    "    text = text.replace('\\xa0', '') # 删除nbsp\n",
    "    # new\n",
    "    r1 =  \"\\\\【.*?】+|\\\\《.*?》+|\\\\#.*?#+|[.!/_,$&%^*()<>+\"\"'?@|;；：　　:~{}#]+|[——！\\\\\\，。=？、：“”‘’￥……（）《》【】]\"\n",
    "    cleanr = re.compile('<.*?>')\n",
    "    text = re.sub(cleanr, ' ', text)        #去除html标签\n",
    "    text = re.sub(r1,'',text)\n",
    "    text = text.strip()\n",
    "    return text"
   ]
  },
  {
   "cell_type": "code",
   "execution_count": 127,
   "metadata": {},
   "outputs": [],
   "source": [
    "def clean_text(data):\n",
    "    data['content'] = data['content'].apply(lambda x: filter(x))\n",
    "    return data"
   ]
  },
  {
   "cell_type": "code",
   "execution_count": 128,
   "metadata": {},
   "outputs": [
    {
     "name": "stdout",
     "output_type": "stream",
     "text": [
      "         id class_label                                            content\n",
      "3004   3004          时尚  立体造型三桥夹板\\t在美学上全新三桥陀飞轮腕表采纳了新的规则于纤毫之间展现大气和立体效果这一...\n",
      "1923   1923          时尚  美容一贯走在革新的前列从上世纪年代的嬉皮士发型到年代早期的朋克摇滚妆容美容都是社会变化的抽象...\n",
      "1817   1817          时尚  这款腕表本身就见证了该表厂的全部传奇烙印在萧邦文化的核心兼具美感和精确系列彰显这个日内瓦表厂...\n",
      "4793   4793          时尚  放眼近年的春夏秀场总能看到鲜活跳跃的马卡龙色点亮台低饱和度色的单品不仅看起来凉爽舒适还能让人...\n",
      "878     878          房产  最近有消息称房地产税要进入立法流程不过笔者依旧坚持之前的观点立法并非一蹴而就即使现在就开始最...\n",
      "...     ...         ...                                                ...\n",
      "3116   3116          财经  周二月日国轩转债申购申购代码转股价值市净率倍存续期为年到期税前年化收益率债券评级为转股价下调...\n",
      "267     267          房产  在房地产市场在持续了十数年的高速增长后年开始楼市出现需求下行的态势让房地产商们纷纷考虑起新的...\n",
      "8245  10899          体育  近日有关于科普下竞走的技巧竞走的注意事项的问题受到了很多网友们的关注大多数网友都想要知道科普...\n",
      "4001   4001          教育  对分离未知环境的焦虑对学习科研压力的恐惧要怎么面对才好呢对于学生们来说今年经历了不一般的体验...\n",
      "5859   5859          家居  快节奏的生活让人们对于等待这件事渐渐失去了耐心排队等待吃饭等待奶茶出炉等待好友赴约在外无休止...\n",
      "\n",
      "[9342 rows x 3 columns]\n"
     ]
    }
   ],
   "source": [
    "data_new = clean_text(data_new)\n",
    "data_new = shuffle(data_new)\n",
    "print(data_new)"
   ]
  },
  {
   "cell_type": "code",
   "execution_count": 129,
   "metadata": {},
   "outputs": [],
   "source": [
    "def filterLabel(text):\n",
    "    return labels.index(text)\n",
    "def switchLabel(data):\n",
    "    data['class_label'] = data['class_label'].apply(lambda x:filterLabel(x))\n",
    "    return data\n",
    "data_new = switchLabel(data_new)"
   ]
  },
  {
   "cell_type": "code",
   "execution_count": 130,
   "metadata": {},
   "outputs": [
    {
     "name": "stdout",
     "output_type": "stream",
     "text": [
      "         id  class_label                                            content\n",
      "0      3004            5  立体造型三桥夹板\\t在美学上全新三桥陀飞轮腕表采纳了新的规则于纤毫之间展现大气和立体效果这一...\n",
      "1      1923            5  美容一贯走在革新的前列从上世纪年代的嬉皮士发型到年代早期的朋克摇滚妆容美容都是社会变化的抽象...\n",
      "2      1817            5  这款腕表本身就见证了该表厂的全部传奇烙印在萧邦文化的核心兼具美感和精确系列彰显这个日内瓦表厂...\n",
      "3      4793            5  放眼近年的春夏秀场总能看到鲜活跳跃的马卡龙色点亮台低饱和度色的单品不仅看起来凉爽舒适还能让人...\n",
      "4       878            1  最近有消息称房地产税要进入立法流程不过笔者依旧坚持之前的观点立法并非一蹴而就即使现在就开始最...\n",
      "...     ...          ...                                                ...\n",
      "9337   3116            0  周二月日国轩转债申购申购代码转股价值市净率倍存续期为年到期税前年化收益率债券评级为转股价下调...\n",
      "9338    267            1  在房地产市场在持续了十数年的高速增长后年开始楼市出现需求下行的态势让房地产商们纷纷考虑起新的...\n",
      "9339  10899            9  近日有关于科普下竞走的技巧竞走的注意事项的问题受到了很多网友们的关注大多数网友都想要知道科普...\n",
      "9340   4001            3  对分离未知环境的焦虑对学习科研压力的恐惧要怎么面对才好呢对于学生们来说今年经历了不一般的体验...\n",
      "9341   5859            2  快节奏的生活让人们对于等待这件事渐渐失去了耐心排队等待吃饭等待奶茶出炉等待好友赴约在外无休止...\n",
      "\n",
      "[9342 rows x 3 columns]\n"
     ]
    }
   ],
   "source": [
    "data_new = data_new.reset_index(drop=True)\n",
    "print(data_new)\n"
   ]
  },
  {
   "cell_type": "code",
   "execution_count": 133,
   "metadata": {},
   "outputs": [
    {
     "ename": "TypeError",
     "evalue": "drop() got an unexpected keyword argument 'column'",
     "output_type": "error",
     "traceback": [
      "\u001b[1;31m---------------------------------------------------------------------------\u001b[0m",
      "\u001b[1;31mTypeError\u001b[0m                                 Traceback (most recent call last)",
      "\u001b[1;32m<ipython-input-133-45f7c1bdd2a4>\u001b[0m in \u001b[0;36m<module>\u001b[1;34m\u001b[0m\n\u001b[1;32m----> 1\u001b[1;33m \u001b[0mdata_new\u001b[0m\u001b[1;33m.\u001b[0m\u001b[0mdrop\u001b[0m\u001b[1;33m(\u001b[0m\u001b[0mcolumn\u001b[0m\u001b[1;33m=\u001b[0m\u001b[1;33m[\u001b[0m\u001b[1;34m'id'\u001b[0m\u001b[1;33m]\u001b[0m\u001b[1;33m)\u001b[0m\u001b[1;33m\u001b[0m\u001b[1;33m\u001b[0m\u001b[0m\n\u001b[0m\u001b[0;32m      2\u001b[0m \u001b[0mprint\u001b[0m\u001b[1;33m(\u001b[0m\u001b[0mdata_new\u001b[0m\u001b[1;33m)\u001b[0m\u001b[1;33m\u001b[0m\u001b[1;33m\u001b[0m\u001b[0m\n",
      "\u001b[1;31mTypeError\u001b[0m: drop() got an unexpected keyword argument 'column'"
     ]
    }
   ],
   "source": [
    "\n",
    "print(data_new)"
   ]
  },
  {
   "cell_type": "code",
   "execution_count": 75,
   "metadata": {},
   "outputs": [
    {
     "name": "stdout",
     "output_type": "stream",
     "text": [
      "      index  class_label                                            content\n",
      "0      7330            7  和平精英游戏中的勇者宝箱是在周年庆圈中圈模式中获取的此宝箱中有很多的奖励哦那么和平精英勇者宝...\n",
      "1      3722            3  中新网月日电综合报道美国高校招生舞弊案日又有重大进展检方透露包括好莱坞女演员菲西丽提·霍夫曼...\n",
      "2      7961            7  在剑与远征中最近也是出了一个皇家犒赏令这个东西是可以通过玩家的努力来获得相应的奖励的那么这个...\n",
      "3      8521            9  艾迪佩珀罗尔在社交媒体上不害怕表达他对布赖森德尚博的看法从他打球速度过慢到最近距离上的增加都...\n",
      "4      2660            0  今日人民币汇率中间价是多少月日人民币兑美元中间价调升个基点报同时央行公告称目前银行体系流动性...\n",
      "...     ...          ...                                                ...\n",
      "7996   1608            1  中骏集团控股有限公司月日宣布年月份集团连同其合营公司及联营公司实现合同销售金额约亿元合同销售...\n",
      "7997   7832            7  由郭涛首执导筒并主演的悬疑犯罪电影月日在西安丝绸之路国际电影节举办了新闻发布会电影首次惊艳亮...\n",
      "7998   6512            1  故宫金碧辉煌大气磅礴当春风吹过成片的花儿在红墙掩映下竞相开放古老的宫殿便又开始焕发生机一如数...\n",
      "7999   5496            3  光明日报北京月日电记者周梦爽灵长类的进化经历了万年的历史在这个漫长的过程中包括人类在内的少数...\n",
      "8000   4018            2  月日衣如初见绽放为你三星生活方式家电新品品鉴会在北京举行三星家电携灵变·炫彩系列冰箱灵净·呵...\n",
      "\n",
      "[8001 rows x 3 columns]\n"
     ]
    }
   ],
   "source": [
    "train = data_new.loc[:8000]\n",
    "dev = data_new.loc[8000:]\n",
    "test = data_new.loc[8000:]\n",
    "\n",
    "print(train)"
   ]
  },
  {
   "cell_type": "code",
   "execution_count": 78,
   "metadata": {},
   "outputs": [],
   "source": [
    "train.to_csv('./train.csv', index=False, header=False)\n",
    "test.to_csv('./dev.csv', index=False, header=False)\n",
    "test.to_csv('./test.csv', index=False, header=False)"
   ]
  },
  {
   "cell_type": "code",
   "execution_count": 77,
   "metadata": {},
   "outputs": [
    {
     "name": "stdout",
     "output_type": "stream",
     "text": [
      "      index  class_label                                            content\n",
      "0      7330            7  和平精英游戏中的勇者宝箱是在周年庆圈中圈模式中获取的此宝箱中有很多的奖励哦那么和平精英勇者宝...\n",
      "1      3722            3  中新网月日电综合报道美国高校招生舞弊案日又有重大进展检方透露包括好莱坞女演员菲西丽提·霍夫曼...\n",
      "2      7961            7  在剑与远征中最近也是出了一个皇家犒赏令这个东西是可以通过玩家的努力来获得相应的奖励的那么这个...\n",
      "3      8521            9  艾迪佩珀罗尔在社交媒体上不害怕表达他对布赖森德尚博的看法从他打球速度过慢到最近距离上的增加都...\n",
      "4      2660            0  今日人民币汇率中间价是多少月日人民币兑美元中间价调升个基点报同时央行公告称目前银行体系流动性...\n",
      "...     ...          ...                                                ...\n",
      "7996   1608            1  中骏集团控股有限公司月日宣布年月份集团连同其合营公司及联营公司实现合同销售金额约亿元合同销售...\n",
      "7997   7832            7  由郭涛首执导筒并主演的悬疑犯罪电影月日在西安丝绸之路国际电影节举办了新闻发布会电影首次惊艳亮...\n",
      "7998   6512            1  故宫金碧辉煌大气磅礴当春风吹过成片的花儿在红墙掩映下竞相开放古老的宫殿便又开始焕发生机一如数...\n",
      "7999   5496            3  光明日报北京月日电记者周梦爽灵长类的进化经历了万年的历史在这个漫长的过程中包括人类在内的少数...\n",
      "8000   4018            2  月日衣如初见绽放为你三星生活方式家电新品品鉴会在北京举行三星家电携灵变·炫彩系列冰箱灵净·呵...\n",
      "\n",
      "[8001 rows x 3 columns]\n"
     ]
    }
   ],
   "source": [
    "print(train)"
   ]
  },
  {
   "cell_type": "code",
   "execution_count": null,
   "metadata": {},
   "outputs": [],
   "source": []
  }
 ],
 "metadata": {
  "kernelspec": {
   "display_name": "Python 3",
   "language": "python",
   "name": "python3"
  },
  "language_info": {
   "codemirror_mode": {
    "name": "ipython",
    "version": 3
   },
   "file_extension": ".py",
   "mimetype": "text/x-python",
   "name": "python",
   "nbconvert_exporter": "python",
   "pygments_lexer": "ipython3",
   "version": "3.8.3"
  }
 },
 "nbformat": 4,
 "nbformat_minor": 4
}
