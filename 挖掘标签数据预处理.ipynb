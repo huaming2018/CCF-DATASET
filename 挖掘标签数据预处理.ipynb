{
 "cells": [
  {
   "cell_type": "markdown",
   "metadata": {},
   "source": [
    "处理未标签数据 对每个样本都检测时候有分类标签 如果这个样本只有一个标签 则认为这个样本是属于这个标签的"
   ]
  },
  {
   "cell_type": "code",
   "execution_count": 9,
   "metadata": {},
   "outputs": [],
   "source": [
    "import pandas as pd\n",
    "import random\n",
    "import csv\n",
    "from sklearn.utils import shuffle\n",
    "import numpy as np"
   ]
  },
  {
   "cell_type": "code",
   "execution_count": 10,
   "metadata": {},
   "outputs": [
    {
     "name": "stdout",
     "output_type": "stream",
     "text": [
      "          id                                            content\n",
      "0          0  区块链正在以前所未有的速度发展。根据IDC数据，2018年中国区块链市场支出规模达1.6亿美...\n",
      "1          1  明天就是儿童节了，连篇累牍的校园性侵事件，为我们纪念这个节日平添了沉重的注脚。当然，历史而言...\n",
      "2          2  WTA世界排名第二的罗马尼亚名将哈勒普宣布，由于新冠肺炎疫情的蔓延，她决定不参加即将开战的美...\n",
      "3          3  教你用几毛钱做瓷砖清洁剂，清洁阿姨都不知道！1.准备一瓶500毫升的矿泉水，倒出一半；2.取...\n",
      "4          4  昨天，国家卫生计生委召开例行新闻发布会，围绕食品安全相关工作及社会热点答记者问。到2015年...\n",
      "...      ...                                                ...\n",
      "32995  32995  中新网长春4月6日电(记者崔颜锋)经吉林省政府“3.29”重大瓦斯事故调查组初步核实：吉林省...\n",
      "32996  32996  近日，由金牌编剧董润年导演并编剧，黄渤、王珞丹、谭卓、白客、黄璐、宋春丽、文淇领衔主演，丁溪...\n",
      "32997  32997  首先，夕阳中AnneHathaway婚纱的粉色不只是光线问题，设计稿中裙摆和头纱的下摆都是渐...\n",
      "32998  32998  6月9日，贵州省高考评卷工作专题组长培训会在贵州师范大学举行，对今年高考评卷工作提出了严格要...\n",
      "32999  32999  下面大宗网小编为您整理一下新股佰仁医疗(688198)的相关内容，希望对打新的小伙伴有所帮助...\n",
      "\n",
      "[33000 rows x 2 columns]\n"
     ]
    }
   ],
   "source": [
    "df = pd.read_csv(\"./unlabeled_data.csv\", engine=\"python\", encoding=\"utf_8_sig\")\n",
    "labels = ['财经','房产','家居','教育','科技','时尚','时政','游戏','娱乐','体育']\n",
    "id_list = []\n",
    "label_list = []\n",
    "content_list = []\n",
    "neg_content_list = []\n",
    "neg_id_list = []\n",
    "cnt_for_game= 0\n",
    "print(df)"
   ]
  },
  {
   "cell_type": "code",
   "execution_count": 11,
   "metadata": {},
   "outputs": [
    {
     "name": "stdout",
     "output_type": "stream",
     "text": [
      "0\n",
      "10000\n",
      "20000\n",
      "30000\n"
     ]
    }
   ],
   "source": [
    "for i in range(df.shape[0]):\n",
    "    count = []\n",
    "    if i % 10000 ==0:\n",
    "        print(i)\n",
    "    for j in range(len(labels)):\n",
    "        if labels[j] in df.iloc[i][1]:\n",
    "            count.append(j)\n",
    "    if len(count)==1:\n",
    "        if count[0] == 7 and cnt_for_game < 1000:\n",
    "            cnt_for_game += 1\n",
    "            id_list.append(df.iloc[i][0])\n",
    "            content_list.append(df.iloc[i][1])\n",
    "            label_list.append(labels[count[0]])\n",
    "        elif count[0] in [8,9]:\n",
    "            id_list.append(df.iloc[i][0])\n",
    "            content_list.append(df.iloc[i][1])\n",
    "            label_list.append(labels[count[0]])\n",
    "        else:\n",
    "            neg_content_list.append(df.iloc[i][1])\n",
    "            neg_id_list.append(df.iloc[i][0])\n",
    "    else:\n",
    "        neg_content_list.append(df.iloc[i][1])\n",
    "        neg_id_list.append(df.iloc[i][0])"
   ]
  },
  {
   "cell_type": "code",
   "execution_count": 5,
   "metadata": {},
   "outputs": [
    {
     "name": "stdout",
     "output_type": "stream",
     "text": [
      "30658\n",
      "2342\n"
     ]
    }
   ],
   "source": [
    "print(len(neg_content_list))\n",
    "print(len(content_list))"
   ]
  },
  {
   "cell_type": "code",
   "execution_count": 12,
   "metadata": {},
   "outputs": [
    {
     "name": "stdout",
     "output_type": "stream",
     "text": [
      "        id class_label                                            content\n",
      "0        0          体育  纽马参赛人数最多的时候可达10万人，跑者通过标志性的纽约大吊桥时，连桥身都震动，场面很壮观。...\n",
      "1        1          游戏  多多自走棋最近也是上新了新的棋子，而本次的这个棋子是灵族战士的岩之灵，这是一个定位为肉盾和控...\n",
      "2        2          娱乐  现在很多新人结婚以后，都会过一场度蜜月的旅行，这样不仅能看美景，还能增进夫妻之间的感情。今天...\n",
      "3        3          游戏  走过很多地方，去过很多景点，滑过很多场雪，只要有钱有闲谁都能来场旅行。但是下面这些地方还需要...\n",
      "4        4          游戏  侍魂胧月传说在今天12月4日迎来了一波维护更新，值得一提的是在本次更新以后就将会迎来周年庆哦...\n",
      "...    ...         ...                                                ...\n",
      "2337  2337          娱乐  电影《悟空传》今日曝光了“天神合一”海报，彭于晏、倪妮、欧豪、余文乐、郑爽、乔杉、俞飞鸿纷纷...\n",
      "2338  2338          娱乐  由小黄人团队重磅制作的动画喜剧电影《绿毛怪格林奇》于今日上映，影片在北美以超2.26亿美元成...\n",
      "2339  2339          娱乐  近日,Marantz®对外公布了新款的PM6007合并式功放和CD6007CD播放器,专为发...\n",
      "2340  2340          体育  9月28日，中国田径街头巡回赛2020赛季第三站在西安市大唐不夜城开元广场举行。十六朝古都西...\n",
      "2341  2341          体育  “通过军训，锻炼了吃苦耐劳的精神，强化了祖国至上、人民至上的思想意识。我会把军训中学到的优良...\n",
      "\n",
      "[2342 rows x 3 columns]\n"
     ]
    }
   ],
   "source": [
    "new_dict = {\"id\":np.arange(0,len(label_list)), \"class_label\":label_list, \"content\":content_list}\n",
    "new_df = pd.DataFrame(new_dict)\n",
    "print(new_df)\n"
   ]
  },
  {
   "cell_type": "code",
   "execution_count": 13,
   "metadata": {},
   "outputs": [
    {
     "name": "stdout",
     "output_type": "stream",
     "text": [
      "        id  class_label                                            content\n",
      "0        0            0  纽马参赛人数最多的时候可达10万人，跑者通过标志性的纽约大吊桥时，连桥身都震动，场面很壮观。...\n",
      "1        1            0  多多自走棋最近也是上新了新的棋子，而本次的这个棋子是灵族战士的岩之灵，这是一个定位为肉盾和控...\n",
      "2        2            0  现在很多新人结婚以后，都会过一场度蜜月的旅行，这样不仅能看美景，还能增进夫妻之间的感情。今天...\n",
      "3        3            0  走过很多地方，去过很多景点，滑过很多场雪，只要有钱有闲谁都能来场旅行。但是下面这些地方还需要...\n",
      "4        4            0  侍魂胧月传说在今天12月4日迎来了一波维护更新，值得一提的是在本次更新以后就将会迎来周年庆哦...\n",
      "...    ...          ...                                                ...\n",
      "2337  2337            0  电影《悟空传》今日曝光了“天神合一”海报，彭于晏、倪妮、欧豪、余文乐、郑爽、乔杉、俞飞鸿纷纷...\n",
      "2338  2338            0  由小黄人团队重磅制作的动画喜剧电影《绿毛怪格林奇》于今日上映，影片在北美以超2.26亿美元成...\n",
      "2339  2339            0  近日,Marantz®对外公布了新款的PM6007合并式功放和CD6007CD播放器,专为发...\n",
      "2340  2340            0  9月28日，中国田径街头巡回赛2020赛季第三站在西安市大唐不夜城开元广场举行。十六朝古都西...\n",
      "2341  2341            0  “通过军训，锻炼了吃苦耐劳的精神，强化了祖国至上、人民至上的思想意识。我会把军训中学到的优良...\n",
      "\n",
      "[2342 rows x 3 columns]\n"
     ]
    }
   ],
   "source": [
    "new_df['class_label'] = new_df['class_label'].apply(lambda x:0)\n",
    "print(new_df)"
   ]
  },
  {
   "cell_type": "code",
   "execution_count": 10,
   "metadata": {},
   "outputs": [
    {
     "name": "stdout",
     "output_type": "stream",
     "text": [
      "        id class_label                                            content\n",
      "0        0          教育  人民网北京8月31日电（孙竞）日前，为进一步规范高等学校命名工作，依据相关法律法规规定，结合...\n",
      "1        1          家居  又是一年落叶黄，一阵秋雨一阵凉；整日奔波工作忙，出门别忘添衣裳。金秋时节，正值装修旺季，集美...\n",
      "2        2          教育  作者：祝安顺（深圳大学饶宗颐文化研究院编审、副教授）　　越来越多的名校毕业生入职教师行业，吸...\n",
      "3        3          时尚  虽然此前其有过与品牌如Madawell的合作系列，但这回她确认将推出自己名下的服装系列。在最...\n",
      "4        4          教育  眼下，虽然疫情依然严峻，但我国大中小学都已陆续开学，疫情防控进入常态化，学生校园生活回归正常...\n",
      "...    ...         ...                                                ...\n",
      "6995  6995          教育  近期，国家卫健委发布《学校传染病症状监测预警技术指南》，其中规定，学校传染病达预警指标后，应...\n",
      "6996  6996          房产  新冠肺炎疫情影响之下，房企纷纷开设“线上售楼处”。据克而瑞监测，目前超过150家房企在做线上...\n",
      "6997  6997          教育  学生犯错后，教师能不能惩戒？如何惩戒？惩戒的边界在哪里？9月起，《广东省学校安全条例》（以下...\n",
      "6998  6998          科技  6月3日下午，荣耀为我们带来了全新的荣耀Play4系列新品，包括了Play4和Play4Pr...\n",
      "6999  6999          时政  @人民日报：【好消息速扩！天然气价格4月1日起大幅下调！】发改委今天宣布，4月1日起，我国天...\n",
      "\n",
      "[7000 rows x 3 columns]\n",
      "<class 'pandas.core.frame.DataFrame'>\n",
      "Int64Index: 9342 entries, 0 to 9341\n",
      "Data columns (total 3 columns):\n",
      " #   Column       Non-Null Count  Dtype \n",
      "---  ------       --------------  ----- \n",
      " 0   id           9342 non-null   int64 \n",
      " 1   class_label  9342 non-null   object\n",
      " 2   content      9342 non-null   object\n",
      "dtypes: int64(1), object(2)\n",
      "memory usage: 291.9+ KB\n",
      "None\n"
     ]
    }
   ],
   "source": [
    "df1 = pd.read_csv(\"./labeled_data.csv\", engine=\"python\", encoding=\"utf_8_sig\")\n",
    "print(df1)\n",
    "data_new = pd.merge(df1, new_df, how=\"outer\")\n",
    "print(data_new.info())"
   ]
  },
  {
   "cell_type": "markdown",
   "metadata": {},
   "source": [
    "数据清洗"
   ]
  },
  {
   "cell_type": "code",
   "execution_count": 11,
   "metadata": {},
   "outputs": [],
   "source": [
    "import re\n",
    "def filter(text):\n",
    "    text = re.sub(\"[A-Za-z0-9\\!\\=\\？\\%\\[\\]\\,\\（\\）\\>\\<:&lt;\\/#\\. -----\\_]\", \"\", text)\n",
    "    text = text.replace('图片', '')\n",
    "    text = text.replace('\\xa0', '') # 删除nbsp\n",
    "    # new\n",
    "    r1 =  \"\\\\【.*?】+|\\\\《.*?》+|\\\\#.*?#+|[.!/_,$&%^*()<>+\"\"'?@|;；：　　:~{}#]+|[——！\\\\\\，。=？、：“”‘’￥……（）《》【】]\"\n",
    "    cleanr = re.compile('<.*?>')\n",
    "    text = re.sub(cleanr, ' ', text)        #去除html标签\n",
    "    text = re.sub(r1,'',text)\n",
    "    text = text.strip()\n",
    "    return text"
   ]
  },
  {
   "cell_type": "code",
   "execution_count": 12,
   "metadata": {},
   "outputs": [],
   "source": [
    "def clean_text(data):\n",
    "    data['content'] = data['content'].apply(lambda x: filter(x))\n",
    "    return data"
   ]
  },
  {
   "cell_type": "code",
   "execution_count": 13,
   "metadata": {},
   "outputs": [
    {
     "name": "stderr",
     "output_type": "stream",
     "text": [
      "<ipython-input-11-770bd9402d13>:3: FutureWarning: Possible set difference at position 43\n",
      "  text = re.sub(\"[A-Za-z0-9\\!\\=\\？\\%\\[\\]\\,\\（\\）\\>\\<:&lt;\\/#\\. -----\\_]\", \"\", text)\n",
      "<ipython-input-11-770bd9402d13>:3: FutureWarning: Possible set difference at position 45\n",
      "  text = re.sub(\"[A-Za-z0-9\\!\\=\\？\\%\\[\\]\\,\\（\\）\\>\\<:&lt;\\/#\\. -----\\_]\", \"\", text)\n",
      "<ipython-input-11-770bd9402d13>:3: FutureWarning: Possible set difference at position 46\n",
      "  text = re.sub(\"[A-Za-z0-9\\!\\=\\？\\%\\[\\]\\,\\（\\）\\>\\<:&lt;\\/#\\. -----\\_]\", \"\", text)\n"
     ]
    },
    {
     "name": "stdout",
     "output_type": "stream",
     "text": [
      "        id class_label                                            content\n",
      "7132   132          游戏  原神相信很快就是可以和大家见面了相信不少的小伙伴都是非常期待的也是有很多的小伙伴非常期待的那...\n",
      "9190  2190          娱乐  由青年导演孙传林执导何为魏嘉镁贺云庆韩伯维等领衔主演的青春轻喜剧电影今日正式登陆全国院线据悉...\n",
      "7178   178          游戏  由奥斯卡最佳原创剧本提名导演斯蒂文·奈特执导奥斯卡影帝马修·麦康纳与奥斯卡最佳女配安妮·海瑟...\n",
      "8049  1049          娱乐  ·住总万科天地定位京北智慧产城创新中心灵感源于美国硅谷以硅谷的创新为原点沿袭硅谷的产学城发展...\n",
      "3289  3289          教育  北京工业大学信息学部教师党支部开展我的首都我建设支部共建活动围绕不忘初心牢记使命主题教育贯彻...\n",
      "...    ...         ...                                                ...\n",
      "4008  4008          财经  什么是期货操盘手操盘手不是狭义上的一个人可以是个人也可以是机构通常来说操盘手是被委托者他们需...\n",
      "1511  1511          教育  光明网讯在中华人民共和国成立周年之际在风景如画的黄河之滨有这样一群团结奋进的师生他们扎实推进...\n",
      "4252  4252          财经  期货哪里开户好用户可以在期货公司进行开户也可以在中国期货监控中心的上进行开户打开中国期货监控...\n",
      "1987  1987          时政  理想信念动摇是最危险的动摇思想上出现滑坡是最严重的病变党员干部如果在思想防线上有所松动甚至降...\n",
      "2604  2604          家居  近年来随着社会经济发展及装修需求的改变在家装方面越来越多的消费者对家居空间追求产品空间人的个...\n",
      "\n",
      "[9342 rows x 3 columns]\n"
     ]
    }
   ],
   "source": [
    "data_new = clean_text(data_new)\n",
    "data_new = shuffle(data_new)\n",
    "print(data_new)"
   ]
  },
  {
   "cell_type": "code",
   "execution_count": 14,
   "metadata": {},
   "outputs": [],
   "source": [
    "def filterLabel(text):\n",
    "    return labels.index(text)\n",
    "def switchLabel(data):\n",
    "    data['class_label'] = data['class_label'].apply(lambda x:filterLabel(x))\n",
    "    return data\n",
    "data_new = switchLabel(data_new)"
   ]
  },
  {
   "cell_type": "code",
   "execution_count": 15,
   "metadata": {},
   "outputs": [
    {
     "name": "stdout",
     "output_type": "stream",
     "text": [
      "        id  class_label                                            content\n",
      "0      132            7  原神相信很快就是可以和大家见面了相信不少的小伙伴都是非常期待的也是有很多的小伙伴非常期待的那...\n",
      "1     2190            8  由青年导演孙传林执导何为魏嘉镁贺云庆韩伯维等领衔主演的青春轻喜剧电影今日正式登陆全国院线据悉...\n",
      "2      178            7  由奥斯卡最佳原创剧本提名导演斯蒂文·奈特执导奥斯卡影帝马修·麦康纳与奥斯卡最佳女配安妮·海瑟...\n",
      "3     1049            8  ·住总万科天地定位京北智慧产城创新中心灵感源于美国硅谷以硅谷的创新为原点沿袭硅谷的产学城发展...\n",
      "4     3289            3  北京工业大学信息学部教师党支部开展我的首都我建设支部共建活动围绕不忘初心牢记使命主题教育贯彻...\n",
      "...    ...          ...                                                ...\n",
      "9337  4008            0  什么是期货操盘手操盘手不是狭义上的一个人可以是个人也可以是机构通常来说操盘手是被委托者他们需...\n",
      "9338  1511            3  光明网讯在中华人民共和国成立周年之际在风景如画的黄河之滨有这样一群团结奋进的师生他们扎实推进...\n",
      "9339  4252            0  期货哪里开户好用户可以在期货公司进行开户也可以在中国期货监控中心的上进行开户打开中国期货监控...\n",
      "9340  1987            6  理想信念动摇是最危险的动摇思想上出现滑坡是最严重的病变党员干部如果在思想防线上有所松动甚至降...\n",
      "9341  2604            2  近年来随着社会经济发展及装修需求的改变在家装方面越来越多的消费者对家居空间追求产品空间人的个...\n",
      "\n",
      "[9342 rows x 3 columns]\n"
     ]
    }
   ],
   "source": [
    "data_new = data_new.reset_index(drop=True)\n",
    "print(data_new)\n"
   ]
  },
  {
   "cell_type": "code",
   "execution_count": 16,
   "metadata": {},
   "outputs": [
    {
     "name": "stdout",
     "output_type": "stream",
     "text": [
      "      class_label                                            content\n",
      "0               7  原神相信很快就是可以和大家见面了相信不少的小伙伴都是非常期待的也是有很多的小伙伴非常期待的那...\n",
      "1               8  由青年导演孙传林执导何为魏嘉镁贺云庆韩伯维等领衔主演的青春轻喜剧电影今日正式登陆全国院线据悉...\n",
      "2               7  由奥斯卡最佳原创剧本提名导演斯蒂文·奈特执导奥斯卡影帝马修·麦康纳与奥斯卡最佳女配安妮·海瑟...\n",
      "3               8  ·住总万科天地定位京北智慧产城创新中心灵感源于美国硅谷以硅谷的创新为原点沿袭硅谷的产学城发展...\n",
      "4               3  北京工业大学信息学部教师党支部开展我的首都我建设支部共建活动围绕不忘初心牢记使命主题教育贯彻...\n",
      "...           ...                                                ...\n",
      "9337            0  什么是期货操盘手操盘手不是狭义上的一个人可以是个人也可以是机构通常来说操盘手是被委托者他们需...\n",
      "9338            3  光明网讯在中华人民共和国成立周年之际在风景如画的黄河之滨有这样一群团结奋进的师生他们扎实推进...\n",
      "9339            0  期货哪里开户好用户可以在期货公司进行开户也可以在中国期货监控中心的上进行开户打开中国期货监控...\n",
      "9340            6  理想信念动摇是最危险的动摇思想上出现滑坡是最严重的病变党员干部如果在思想防线上有所松动甚至降...\n",
      "9341            2  近年来随着社会经济发展及装修需求的改变在家装方面越来越多的消费者对家居空间追求产品空间人的个...\n",
      "\n",
      "[9342 rows x 2 columns]\n"
     ]
    }
   ],
   "source": [
    "\n",
    "data_new = data_new.drop(columns=['id'])\n",
    "print(data_new)"
   ]
  },
  {
   "cell_type": "code",
   "execution_count": 17,
   "metadata": {},
   "outputs": [],
   "source": [
    "data_new.to_csv('./data_train.csv', index=False)"
   ]
  },
  {
   "cell_type": "markdown",
   "metadata": {},
   "source": [
    "处理未标签数据"
   ]
  },
  {
   "cell_type": "code",
   "execution_count": 18,
   "metadata": {},
   "outputs": [
    {
     "data": {
      "text/plain": [
       "30658"
      ]
     },
     "execution_count": 18,
     "metadata": {},
     "output_type": "execute_result"
    }
   ],
   "source": [
    "len(neg_content_list)"
   ]
  },
  {
   "cell_type": "code",
   "execution_count": 19,
   "metadata": {},
   "outputs": [
    {
     "name": "stdout",
     "output_type": "stream",
     "text": [
      "30658\n",
      "30658\n",
      "30658\n"
     ]
    }
   ],
   "source": [
    "import numpy as np\n",
    "neg_label_list = list(10 * np.ones(len(neg_content_list)))\n",
    "print(len(neg_label_list))\n",
    "print(len(neg_id_list))\n",
    "print(len(neg_content_list))"
   ]
  },
  {
   "cell_type": "code",
   "execution_count": 84,
   "metadata": {},
   "outputs": [],
   "source": []
  },
  {
   "cell_type": "code",
   "execution_count": 20,
   "metadata": {},
   "outputs": [
    {
     "name": "stdout",
     "output_type": "stream",
     "text": [
      "       class_label                                            content\n",
      "0             10.0  区块链正在以前所未有的速度发展根据数据年中国区块链市场支出规模达亿美元到年有望达到亿美元复合...\n",
      "1             10.0  明天就是儿童节了连篇累牍的校园性侵事件为我们纪念这个节日平添了沉重的注脚当然历史而言儿童节本...\n",
      "2             10.0  世界排名第二的罗马尼亚名将哈勒普宣布由于新冠肺炎疫情的蔓延她决定不参加即将开战的美国网球公开...\n",
      "3             10.0  教你用几毛钱做瓷砖清洁剂清洁阿姨都不知道准备一瓶毫升的矿泉水倒出一半取一瓶盖的肥皂粉取两瓶盖...\n",
      "4             10.0  昨天国家卫生计生委召开例行新闻发布会围绕食品安全相关工作及社会热点答记者问到年底多项食品安全...\n",
      "...            ...                                                ...\n",
      "30653         10.0  中新网长春月日电记者崔颜锋经吉林省政府重大瓦斯事故调查组初步核实吉林省吉煤集团通化矿业公司八...\n",
      "30654         10.0  近日由金牌编剧董润年导演并编剧黄渤王珞丹谭卓白客黄璐宋春丽文淇领衔主演丁溪鹤李嘉琪吕星辰主演...\n",
      "30655         10.0  首先夕阳中婚纱的粉色不只是光线问题设计稿中裙摆和头纱的下摆都是渐变的浅粉色\\t而与众不同的头...\n",
      "30656         10.0  月日贵州省高考评卷工作专题组长培训会在贵州师范大学举行对今年高考评卷工作提出了严格要求我省今...\n",
      "30657         10.0  下面大宗网小编为您整理一下新股佰仁医疗的相关内容希望对打新的小伙伴有所帮助公司简介经营范围生...\n",
      "\n",
      "[30658 rows x 2 columns]\n"
     ]
    }
   ],
   "source": [
    "neg_new_dict = {\"id\":neg_id_list, \"class_label\":neg_label_list, \"content\":neg_content_list}\n",
    "neg_new_df = pd.DataFrame(neg_new_dict)\n",
    "neg_new_df = clean_text(neg_new_df)\n",
    "neg_new_df = neg_new_df.drop(columns=['id'])\n",
    "print(neg_new_df)"
   ]
  },
  {
   "cell_type": "code",
   "execution_count": 22,
   "metadata": {},
   "outputs": [],
   "source": [
    "neg_new_df.to_csv('./data_neg.csv', index=False)"
   ]
  },
  {
   "cell_type": "markdown",
   "metadata": {},
   "source": [
    "读取数据"
   ]
  },
  {
   "cell_type": "code",
   "execution_count": 23,
   "metadata": {},
   "outputs": [
    {
     "name": "stdout",
     "output_type": "stream",
     "text": [
      "       class_label                                            content\n",
      "0             10.0  区块链正在以前所未有的速度发展根据数据年中国区块链市场支出规模达亿美元到年有望达到亿美元复合...\n",
      "1             10.0  明天就是儿童节了连篇累牍的校园性侵事件为我们纪念这个节日平添了沉重的注脚当然历史而言儿童节本...\n",
      "2             10.0  世界排名第二的罗马尼亚名将哈勒普宣布由于新冠肺炎疫情的蔓延她决定不参加即将开战的美国网球公开...\n",
      "3             10.0  教你用几毛钱做瓷砖清洁剂清洁阿姨都不知道准备一瓶毫升的矿泉水倒出一半取一瓶盖的肥皂粉取两瓶盖...\n",
      "4             10.0  昨天国家卫生计生委召开例行新闻发布会围绕食品安全相关工作及社会热点答记者问到年底多项食品安全...\n",
      "...            ...                                                ...\n",
      "30653         10.0  中新网长春月日电记者崔颜锋经吉林省政府重大瓦斯事故调查组初步核实吉林省吉煤集团通化矿业公司八...\n",
      "30654         10.0  近日由金牌编剧董润年导演并编剧黄渤王珞丹谭卓白客黄璐宋春丽文淇领衔主演丁溪鹤李嘉琪吕星辰主演...\n",
      "30655         10.0  首先夕阳中婚纱的粉色不只是光线问题设计稿中裙摆和头纱的下摆都是渐变的浅粉色\\t而与众不同的头...\n",
      "30656         10.0  月日贵州省高考评卷工作专题组长培训会在贵州师范大学举行对今年高考评卷工作提出了严格要求我省今...\n",
      "30657         10.0  下面大宗网小编为您整理一下新股佰仁医疗的相关内容希望对打新的小伙伴有所帮助公司简介经营范围生...\n",
      "\n",
      "[30658 rows x 2 columns]\n"
     ]
    }
   ],
   "source": [
    "df = pd.read_csv(\"./data_neg.csv\", engine=\"python\", encoding=\"utf_8_sig\")\n",
    "print(df)"
   ]
  },
  {
   "cell_type": "code",
   "execution_count": 30,
   "metadata": {
    "scrolled": true
   },
   "outputs": [
    {
     "name": "stdout",
     "output_type": "stream",
     "text": [
      "       class_label                                            content\n",
      "13500         10.0  月日晚第届亚太电影大奖在澳大利亚布里斯班举办颁奖典礼中国女演员赵涛凭借在中的精彩表演勇夺最佳...\n",
      "10175         10.0  随着抖音的爆火越来越多的个人创业者微商电商实体店老板和企业开始意识到抖音营销的重要性抖音变现...\n",
      "1730          10.0  在所有五官中眼睛长得最着急岁左右眼球直径就长到了毫米左右岁左右就已和成年后的眼球差不多大小接...\n",
      "27395         10.0  性能新机将于月日发布现在距离这款新机的发布只有几天时间了目前官方已经公布了这款手机的几个卖点...\n",
      "17637         10.0  剑与远征中的这个异界迷宫是一个非常受玩家们欢迎的副本在这个副本中玩家们可以获得丰厚的奖励但是...\n",
      "...            ...                                                ...\n",
      "28665         10.0  云顶之弈赛季马上就要来了呢大家在玩云顶之奕的时候都是知道这些棋子是有着刷新的概率的要用钱在最...\n",
      "16323         10.0  岁的日本羽毛球女双名将高桥礼华日表示她退役的原因是东京奥运会推迟后无法再坚持一年的训练高桥曾...\n",
      "25458         10.0  合景领汇长安怎么样合景领汇长安是西长安街上双地铁纯商品房住区位于门头沟新城繁华地段项目规划为...\n",
      "26887         10.0  除了脱欧谈判担忧英国央行降息预期和公共卫生安全市场再次猜测质疑月份预算案遭推迟英镑又添了一大...\n",
      "21555         10.0  日前兴麟系房产中介公司突然集体关门金额巨大的预付款不知去向一份北京黑中介名单在网络上盛传一系...\n",
      "\n",
      "[1000 rows x 2 columns]\n",
      "       class_label                                            content\n",
      "30527         10.0  生产椅子与沙发的永艺股份最近的股票涨得有点吓人不到一个月股票从月日的收盘价元飙升至月日的元涨...\n",
      "20840         10.0  期货交易所是如何应对期货涨跌停风险的为了防止期货价格过快上涨或下跌带来难以履约的风险保证期货...\n",
      "1654          10.0  最近也是开启了活动从上次的国服英灵上线这次也是开启了新年的活动哦一说到的活动那就不要多说了一...\n",
      "4120          10.0  ­缺教师缺编制师资弱这是西部地区特别是边远贫困地区教师队伍建设面临的三只拦路虎记者日前在新疆...\n",
      "11330         10.0  近期通州政策规划利好频传楼市也随之一片红火前来置业的人群络绎不绝市场中数量众多的项目品牌五花...\n",
      "...            ...                                                ...\n",
      "12301         10.0  金地大湖风华是金地房地产旗下风华系列的一个楼盘他主要是以青龙湖湖畔为依傍花园洋房别墅属于叠拼...\n",
      "5533          10.0  对已经购买新居或者打算升级居住环境的业主来说装修真是一件费时费力更费钱的工作设计费材料费人工...\n",
      "71            10.0  央行公布提出要加大城镇棚户区和城乡危房改造力度全年保障性安居工程新安排万套其中棚户区改造万套...\n",
      "12591         10.0  金属期货的基本面分析怎么做金属期货分为工业金属和贵金属工业金属与贵金属由于用途的截然不同其基...\n",
      "12372         10.0  月日由张艺谋执导邓超孙俪领衔主演的电影发布预告与双面版角色海报定档月日剑指国庆档预告中不仅将...\n",
      "\n",
      "[1000 rows x 2 columns]\n"
     ]
    }
   ],
   "source": [
    "select_df = df.sample(1000)\n",
    "print(select_df)"
   ]
  },
  {
   "cell_type": "code",
   "execution_count": 25,
   "metadata": {},
   "outputs": [
    {
     "name": "stdout",
     "output_type": "stream",
     "text": [
      "      class_label                                            content\n",
      "0               7  原神相信很快就是可以和大家见面了相信不少的小伙伴都是非常期待的也是有很多的小伙伴非常期待的那...\n",
      "1               8  由青年导演孙传林执导何为魏嘉镁贺云庆韩伯维等领衔主演的青春轻喜剧电影今日正式登陆全国院线据悉...\n",
      "2               7  由奥斯卡最佳原创剧本提名导演斯蒂文·奈特执导奥斯卡影帝马修·麦康纳与奥斯卡最佳女配安妮·海瑟...\n",
      "3               8  ·住总万科天地定位京北智慧产城创新中心灵感源于美国硅谷以硅谷的创新为原点沿袭硅谷的产学城发展...\n",
      "4               3  北京工业大学信息学部教师党支部开展我的首都我建设支部共建活动围绕不忘初心牢记使命主题教育贯彻...\n",
      "...           ...                                                ...\n",
      "9337            0  什么是期货操盘手操盘手不是狭义上的一个人可以是个人也可以是机构通常来说操盘手是被委托者他们需...\n",
      "9338            3  光明网讯在中华人民共和国成立周年之际在风景如画的黄河之滨有这样一群团结奋进的师生他们扎实推进...\n",
      "9339            0  期货哪里开户好用户可以在期货公司进行开户也可以在中国期货监控中心的上进行开户打开中国期货监控...\n",
      "9340            6  理想信念动摇是最危险的动摇思想上出现滑坡是最严重的病变党员干部如果在思想防线上有所松动甚至降...\n",
      "9341            2  近年来随着社会经济发展及装修需求的改变在家装方面越来越多的消费者对家居空间追求产品空间人的个...\n",
      "\n",
      "[9342 rows x 2 columns]\n"
     ]
    }
   ],
   "source": [
    "df3 = pd.read_csv(\"./data_train.csv\", engine=\"python\", encoding=\"utf_8_sig\")\n",
    "print(df3)"
   ]
  },
  {
   "cell_type": "code",
   "execution_count": 26,
   "metadata": {
    "scrolled": true
   },
   "outputs": [
    {
     "name": "stdout",
     "output_type": "stream",
     "text": [
      "      class_label                                            content\n",
      "10              2  对于研究过早教与英语启蒙的后父母来说好饿的毛毛虫点读笔并不陌生从大评测到专业问答从宝妈推荐到...\n",
      "12              2  都知道古代的房屋基本上都使用木头建造而随着社会进步与发展现在人们在建筑房屋都会选择水泥钢筋这...\n",
      "13              2  如果您是装修业设计师工长销售经理欢迎加入鸣仁装饰平台告别单打独斗的时代要么你组建一个团队要么...\n",
      "26              2  月日晚八点我们的新晋带货达人搜狐张朝阳又为大家带来了许多亲身检验过的品质好物而且直播间此次还...\n",
      "31              2  干衣机烘不透是通病据调查显示的干衣机用户发现衣物烘干不彻底需要二次晾晒而这也是很多用户在购买...\n",
      "...           ...                                                ...\n",
      "9322            2  一份来自大漠孤烟的行走邀约  月日月日由金牌厨柜与新浪家居联合主办的山海经·设计力量主题活动...\n",
      "9330            2  中国家居软装行业的发展进入了白热化阶段各个品牌之间竞争日趋激烈纷纷做出多种尝试以寻求突破口进...\n",
      "9332            2  床上蹦迪公交补觉这是社畜的常态但是真的带来了等价回报么即使拿着不错的薪水但身体不会说谎面对着...\n",
      "9334            2  智能创新改变生活高速发展的科技为家居生活带来全新的体验为凝聚智能家居行业的创新智慧分享真知灼...\n",
      "9341            2  近年来随着社会经济发展及装修需求的改变在家装方面越来越多的消费者对家居空间追求产品空间人的个...\n",
      "\n",
      "[1000 rows x 2 columns]\n"
     ]
    }
   ],
   "source": [
    "sel_df= df3[df3['class_label']==2]\n",
    "print(sel_df)"
   ]
  },
  {
   "cell_type": "code",
   "execution_count": 1,
   "metadata": {},
   "outputs": [
    {
     "ename": "NameError",
     "evalue": "name 'pd' is not defined",
     "output_type": "error",
     "traceback": [
      "\u001b[1;31m---------------------------------------------------------------------------\u001b[0m",
      "\u001b[1;31mNameError\u001b[0m                                 Traceback (most recent call last)",
      "\u001b[1;32m<ipython-input-1-f5689f4d3c30>\u001b[0m in \u001b[0;36m<module>\u001b[1;34m\u001b[0m\n\u001b[1;32m----> 1\u001b[1;33m \u001b[0mdata_for_train\u001b[0m \u001b[1;33m=\u001b[0m \u001b[0mpd\u001b[0m\u001b[1;33m.\u001b[0m\u001b[0mmerge\u001b[0m\u001b[1;33m(\u001b[0m\u001b[0mselect_df\u001b[0m\u001b[1;33m,\u001b[0m \u001b[0msel_df\u001b[0m\u001b[1;33m,\u001b[0m \u001b[0mhow\u001b[0m\u001b[1;33m=\u001b[0m\u001b[1;34m\"outer\"\u001b[0m\u001b[1;33m)\u001b[0m\u001b[1;33m\u001b[0m\u001b[1;33m\u001b[0m\u001b[0m\n\u001b[0m\u001b[0;32m      2\u001b[0m \u001b[0mdata_for_train\u001b[0m \u001b[1;33m=\u001b[0m \u001b[0mdata_for_train\u001b[0m\u001b[1;33m.\u001b[0m\u001b[0mreset_index\u001b[0m\u001b[1;33m(\u001b[0m\u001b[0mdrop\u001b[0m\u001b[1;33m=\u001b[0m\u001b[1;32mTrue\u001b[0m\u001b[1;33m)\u001b[0m\u001b[1;33m\u001b[0m\u001b[1;33m\u001b[0m\u001b[0m\n\u001b[0;32m      3\u001b[0m \u001b[0mprint\u001b[0m\u001b[1;33m(\u001b[0m\u001b[0mdata_for_train\u001b[0m\u001b[1;33m)\u001b[0m\u001b[1;33m\u001b[0m\u001b[1;33m\u001b[0m\u001b[0m\n",
      "\u001b[1;31mNameError\u001b[0m: name 'pd' is not defined"
     ]
    }
   ],
   "source": [
    "data_for_train = pd.merge(select_df, sel_df, how=\"outer\")\n",
    "data_for_train = data_for_train.reset_index(drop=True)\n",
    "print(data_for_train)"
   ]
  },
  {
   "cell_type": "code",
   "execution_count": null,
   "metadata": {},
   "outputs": [],
   "source": []
  }
 ],
 "metadata": {
  "kernelspec": {
   "display_name": "Python 3",
   "language": "python",
   "name": "python3"
  },
  "language_info": {
   "codemirror_mode": {
    "name": "ipython",
    "version": 3
   },
   "file_extension": ".py",
   "mimetype": "text/x-python",
   "name": "python",
   "nbconvert_exporter": "python",
   "pygments_lexer": "ipython3",
   "version": "3.8.3"
  }
 },
 "nbformat": 4,
 "nbformat_minor": 4
}
